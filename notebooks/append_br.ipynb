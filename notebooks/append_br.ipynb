{
 "metadata": {
  "language_info": {
   "codemirror_mode": {
    "name": "ipython",
    "version": 3
   },
   "file_extension": ".py",
   "mimetype": "text/x-python",
   "name": "python",
   "nbconvert_exporter": "python",
   "pygments_lexer": "ipython3",
   "version": "3.8.5-final"
  },
  "orig_nbformat": 2,
  "kernelspec": {
   "name": "python3",
   "display_name": "Python 3",
   "language": "python"
  }
 },
 "nbformat": 4,
 "nbformat_minor": 2,
 "cells": [
  {
   "cell_type": "code",
   "execution_count": 4,
   "metadata": {},
   "outputs": [],
   "source": [
    "import pandas as pd\n",
    "from glob import glob"
   ]
  },
  {
   "cell_type": "code",
   "execution_count": 7,
   "metadata": {},
   "outputs": [],
   "source": [
    "files = glob('../data/raw/*.csv')"
   ]
  },
  {
   "cell_type": "code",
   "execution_count": 8,
   "metadata": {},
   "outputs": [
    {
     "output_type": "stream",
     "name": "stdout",
     "text": [
      "../data/raw\\ABEV3.csv\n",
      "../data/raw\\AZUL4.csv\n",
      "../data/raw\\B3SA3.csv\n",
      "../data/raw\\BBAS3.csv\n",
      "../data/raw\\BBDC3.csv\n",
      "../data/raw\\BBDC4.csv\n",
      "../data/raw\\BBSE3.csv\n",
      "../data/raw\\BEEF3.csv\n",
      "../data/raw\\BPAC11.csv\n",
      "../data/raw\\BRAP4.csv\n",
      "../data/raw\\BRDT3.csv\n",
      "../data/raw\\BRFS3.csv\n",
      "../data/raw\\BRKM5.csv\n",
      "../data/raw\\BRML3.csv\n",
      "../data/raw\\BTOW3.csv\n",
      "../data/raw\\CCRO3.csv\n",
      "../data/raw\\CIEL3.csv\n",
      "../data/raw\\CMIG4.csv\n",
      "../data/raw\\COGN3.csv\n",
      "../data/raw\\CPFE3.csv\n",
      "../data/raw\\CPLE6.csv\n",
      "../data/raw\\CRFB3.csv\n",
      "../data/raw\\CSAN3.csv\n",
      "../data/raw\\CSNA3.csv\n",
      "../data/raw\\CVCB3.csv\n",
      "../data/raw\\CYRE3.csv\n",
      "../data/raw\\ECOR3.csv\n",
      "../data/raw\\EGIE3.csv\n",
      "../data/raw\\ELET3.csv\n",
      "../data/raw\\ELET6.csv\n",
      "../data/raw\\EMBR3.csv\n",
      "../data/raw\\ENBR3.csv\n",
      "../data/raw\\ENEV3.csv\n",
      "../data/raw\\ENGI11.csv\n",
      "../data/raw\\EQTL3.csv\n",
      "../data/raw\\EZTC3.csv\n",
      "../data/raw\\FLRY3.csv\n",
      "../data/raw\\GGBR4.csv\n",
      "../data/raw\\GNDI3.csv\n",
      "../data/raw\\GOAU4.csv\n",
      "../data/raw\\GOLL4.csv\n",
      "../data/raw\\HAPV3.csv\n",
      "../data/raw\\HGTX3.csv\n",
      "../data/raw\\HYPE3.csv\n",
      "../data/raw\\IGTA3.csv\n",
      "../data/raw\\IRBR3.csv\n",
      "../data/raw\\ITSA4.csv\n",
      "../data/raw\\ITUB4.csv\n",
      "../data/raw\\JBSS3.csv\n",
      "../data/raw\\JHSF3.csv\n",
      "../data/raw\\KLBN11.csv\n",
      "../data/raw\\LAME4.csv\n",
      "../data/raw\\LCAM3.csv\n",
      "../data/raw\\LREN3.csv\n",
      "../data/raw\\MGLU3.csv\n",
      "../data/raw\\MRFG3.csv\n",
      "../data/raw\\MRVE3.csv\n",
      "../data/raw\\MULT3.csv\n",
      "../data/raw\\NTCO3.csv\n",
      "../data/raw\\PCAR3.csv\n",
      "../data/raw\\PETR3.csv\n",
      "../data/raw\\PETR4.csv\n",
      "../data/raw\\PRIO3.csv\n",
      "../data/raw\\QUAL3.csv\n",
      "../data/raw\\RADL3.csv\n",
      "../data/raw\\RAIL3.csv\n",
      "../data/raw\\RENT3.csv\n",
      "../data/raw\\SANB11.csv\n",
      "../data/raw\\SBSP3.csv\n",
      "../data/raw\\SULA11.csv\n",
      "../data/raw\\SUZB3.csv\n",
      "../data/raw\\TAEE11.csv\n",
      "../data/raw\\TIMS3.csv\n",
      "../data/raw\\TOTS3.csv\n",
      "../data/raw\\UGPA3.csv\n",
      "../data/raw\\USIM5.csv\n",
      "../data/raw\\VALE3.csv\n",
      "../data/raw\\VIVT3.csv\n",
      "../data/raw\\VVAR3.csv\n",
      "../data/raw\\WEGE3.csv\n",
      "../data/raw\\YDUQ3.csv\n"
     ]
    }
   ],
   "source": [
    "full_df = None\n",
    "for f in files:\n",
    "    print(f)\n",
    "    df = pd.read_csv(f)\n",
    "    symbol = f.split('/')[-1].split('\\\\')[-1].split('.')[0]\n",
    "    df['Name'] = symbol\n",
    "    if full_df is None:\n",
    "        full_df = df\n",
    "    else:\n",
    "        full_df = full_df.append(df, ignore_index=True)\n",
    "\n"
   ]
  },
  {
   "cell_type": "code",
   "execution_count": 9,
   "metadata": {},
   "outputs": [
    {
     "output_type": "execute_result",
     "data": {
      "text/plain": [
       "             Date       Open       High        Low      Close  Adj Close  \\\n",
       "0      2016-01-04  17.730000  17.730000  17.209999  17.209999  14.775685   \n",
       "1      2016-01-05  17.250000  17.520000  17.110001  17.480000  15.007494   \n",
       "2      2016-01-06  17.360001  17.480000  17.200001  17.309999  14.861542   \n",
       "3      2016-01-07  17.170000  17.320000  16.850000  16.850000  14.466608   \n",
       "4      2016-01-08  16.930000  17.200001  16.930000  17.070000  14.655489   \n",
       "...           ...        ...        ...        ...        ...        ...   \n",
       "97604  2021-02-05  33.500000  34.450001  33.009998  34.000000  34.000000   \n",
       "97605  2021-02-08  33.480000  33.580002  33.080002  33.360001  33.360001   \n",
       "97606  2021-02-09  33.330002  33.330002  32.430000  32.840000  32.840000   \n",
       "97607  2021-02-10  32.840000  32.840000  31.590000  32.000000  32.000000   \n",
       "97608  2021-02-11  32.000000  33.419998  31.840000  33.099998  33.099998   \n",
       "\n",
       "           Volume   Name  \n",
       "0      13206900.0  ABEV3  \n",
       "1      10774200.0  ABEV3  \n",
       "2       7739100.0  ABEV3  \n",
       "3      15316400.0  ABEV3  \n",
       "4      10684000.0  ABEV3  \n",
       "...           ...    ...  \n",
       "97604   2969700.0  YDUQ3  \n",
       "97605   2721600.0  YDUQ3  \n",
       "97606   5718800.0  YDUQ3  \n",
       "97607   8799200.0  YDUQ3  \n",
       "97608   4722900.0  YDUQ3  \n",
       "\n",
       "[97609 rows x 8 columns]"
      ],
      "text/html": "<div>\n<style scoped>\n    .dataframe tbody tr th:only-of-type {\n        vertical-align: middle;\n    }\n\n    .dataframe tbody tr th {\n        vertical-align: top;\n    }\n\n    .dataframe thead th {\n        text-align: right;\n    }\n</style>\n<table border=\"1\" class=\"dataframe\">\n  <thead>\n    <tr style=\"text-align: right;\">\n      <th></th>\n      <th>Date</th>\n      <th>Open</th>\n      <th>High</th>\n      <th>Low</th>\n      <th>Close</th>\n      <th>Adj Close</th>\n      <th>Volume</th>\n      <th>Name</th>\n    </tr>\n  </thead>\n  <tbody>\n    <tr>\n      <th>0</th>\n      <td>2016-01-04</td>\n      <td>17.730000</td>\n      <td>17.730000</td>\n      <td>17.209999</td>\n      <td>17.209999</td>\n      <td>14.775685</td>\n      <td>13206900.0</td>\n      <td>ABEV3</td>\n    </tr>\n    <tr>\n      <th>1</th>\n      <td>2016-01-05</td>\n      <td>17.250000</td>\n      <td>17.520000</td>\n      <td>17.110001</td>\n      <td>17.480000</td>\n      <td>15.007494</td>\n      <td>10774200.0</td>\n      <td>ABEV3</td>\n    </tr>\n    <tr>\n      <th>2</th>\n      <td>2016-01-06</td>\n      <td>17.360001</td>\n      <td>17.480000</td>\n      <td>17.200001</td>\n      <td>17.309999</td>\n      <td>14.861542</td>\n      <td>7739100.0</td>\n      <td>ABEV3</td>\n    </tr>\n    <tr>\n      <th>3</th>\n      <td>2016-01-07</td>\n      <td>17.170000</td>\n      <td>17.320000</td>\n      <td>16.850000</td>\n      <td>16.850000</td>\n      <td>14.466608</td>\n      <td>15316400.0</td>\n      <td>ABEV3</td>\n    </tr>\n    <tr>\n      <th>4</th>\n      <td>2016-01-08</td>\n      <td>16.930000</td>\n      <td>17.200001</td>\n      <td>16.930000</td>\n      <td>17.070000</td>\n      <td>14.655489</td>\n      <td>10684000.0</td>\n      <td>ABEV3</td>\n    </tr>\n    <tr>\n      <th>...</th>\n      <td>...</td>\n      <td>...</td>\n      <td>...</td>\n      <td>...</td>\n      <td>...</td>\n      <td>...</td>\n      <td>...</td>\n      <td>...</td>\n    </tr>\n    <tr>\n      <th>97604</th>\n      <td>2021-02-05</td>\n      <td>33.500000</td>\n      <td>34.450001</td>\n      <td>33.009998</td>\n      <td>34.000000</td>\n      <td>34.000000</td>\n      <td>2969700.0</td>\n      <td>YDUQ3</td>\n    </tr>\n    <tr>\n      <th>97605</th>\n      <td>2021-02-08</td>\n      <td>33.480000</td>\n      <td>33.580002</td>\n      <td>33.080002</td>\n      <td>33.360001</td>\n      <td>33.360001</td>\n      <td>2721600.0</td>\n      <td>YDUQ3</td>\n    </tr>\n    <tr>\n      <th>97606</th>\n      <td>2021-02-09</td>\n      <td>33.330002</td>\n      <td>33.330002</td>\n      <td>32.430000</td>\n      <td>32.840000</td>\n      <td>32.840000</td>\n      <td>5718800.0</td>\n      <td>YDUQ3</td>\n    </tr>\n    <tr>\n      <th>97607</th>\n      <td>2021-02-10</td>\n      <td>32.840000</td>\n      <td>32.840000</td>\n      <td>31.590000</td>\n      <td>32.000000</td>\n      <td>32.000000</td>\n      <td>8799200.0</td>\n      <td>YDUQ3</td>\n    </tr>\n    <tr>\n      <th>97608</th>\n      <td>2021-02-11</td>\n      <td>32.000000</td>\n      <td>33.419998</td>\n      <td>31.840000</td>\n      <td>33.099998</td>\n      <td>33.099998</td>\n      <td>4722900.0</td>\n      <td>YDUQ3</td>\n    </tr>\n  </tbody>\n</table>\n<p>97609 rows × 8 columns</p>\n</div>"
     },
     "metadata": {},
     "execution_count": 9
    }
   ],
   "source": [
    "full_df"
   ]
  },
  {
   "cell_type": "code",
   "execution_count": 11,
   "metadata": {},
   "outputs": [],
   "source": [
    "full_df.to_csv('../data/interim/ibovfull.csv', index=False)"
   ]
  }
 ]
}