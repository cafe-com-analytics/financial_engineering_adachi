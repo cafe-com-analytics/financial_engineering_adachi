{
 "metadata": {
  "language_info": {
   "codemirror_mode": {
    "name": "ipython",
    "version": 3
   },
   "file_extension": ".py",
   "mimetype": "text/x-python",
   "name": "python",
   "nbconvert_exporter": "python",
   "pygments_lexer": "ipython3",
   "version": "3.8.5-final"
  },
  "orig_nbformat": 2,
  "kernelspec": {
   "name": "python3",
   "display_name": "Python 3",
   "language": "python"
  }
 },
 "nbformat": 4,
 "nbformat_minor": 2,
 "cells": [
  {
   "cell_type": "code",
   "execution_count": 5,
   "metadata": {},
   "outputs": [],
   "source": [
    "import pandas as pd\n",
    "import os"
   ]
  },
  {
   "cell_type": "code",
   "execution_count": 2,
   "metadata": {},
   "outputs": [],
   "source": [
    "# url = \"https://lazyprogrammer.me/course_files/all_stocks_5yrs.csv\"\n",
    "# wget.download(url, 'all_stocks_5yr.csv')"
   ]
  },
  {
   "source": [
    "df = pd.read_csv('../data/raw/all_stocks_5yr.csv')"
   ],
   "cell_type": "code",
   "metadata": {},
   "execution_count": 3,
   "outputs": []
  },
  {
   "cell_type": "code",
   "execution_count": 3,
   "metadata": {},
   "outputs": [
    {
     "output_type": "execute_result",
     "data": {
      "text/plain": [
       "         date   open   high    low  close    volume Name\n",
       "0  2013-02-08  15.07  15.12  14.63  14.75   8407500  AAL\n",
       "1  2013-02-11  14.89  15.01  14.26  14.46   8882000  AAL\n",
       "2  2013-02-12  14.45  14.51  14.10  14.27   8126000  AAL\n",
       "3  2013-02-13  14.30  14.94  14.25  14.66  10259500  AAL\n",
       "4  2013-02-14  14.94  14.96  13.16  13.99  31879900  AAL"
      ],
      "text/html": "<div>\n<style scoped>\n    .dataframe tbody tr th:only-of-type {\n        vertical-align: middle;\n    }\n\n    .dataframe tbody tr th {\n        vertical-align: top;\n    }\n\n    .dataframe thead th {\n        text-align: right;\n    }\n</style>\n<table border=\"1\" class=\"dataframe\">\n  <thead>\n    <tr style=\"text-align: right;\">\n      <th></th>\n      <th>date</th>\n      <th>open</th>\n      <th>high</th>\n      <th>low</th>\n      <th>close</th>\n      <th>volume</th>\n      <th>Name</th>\n    </tr>\n  </thead>\n  <tbody>\n    <tr>\n      <th>0</th>\n      <td>2013-02-08</td>\n      <td>15.07</td>\n      <td>15.12</td>\n      <td>14.63</td>\n      <td>14.75</td>\n      <td>8407500</td>\n      <td>AAL</td>\n    </tr>\n    <tr>\n      <th>1</th>\n      <td>2013-02-11</td>\n      <td>14.89</td>\n      <td>15.01</td>\n      <td>14.26</td>\n      <td>14.46</td>\n      <td>8882000</td>\n      <td>AAL</td>\n    </tr>\n    <tr>\n      <th>2</th>\n      <td>2013-02-12</td>\n      <td>14.45</td>\n      <td>14.51</td>\n      <td>14.10</td>\n      <td>14.27</td>\n      <td>8126000</td>\n      <td>AAL</td>\n    </tr>\n    <tr>\n      <th>3</th>\n      <td>2013-02-13</td>\n      <td>14.30</td>\n      <td>14.94</td>\n      <td>14.25</td>\n      <td>14.66</td>\n      <td>10259500</td>\n      <td>AAL</td>\n    </tr>\n    <tr>\n      <th>4</th>\n      <td>2013-02-14</td>\n      <td>14.94</td>\n      <td>14.96</td>\n      <td>13.16</td>\n      <td>13.99</td>\n      <td>31879900</td>\n      <td>AAL</td>\n    </tr>\n  </tbody>\n</table>\n</div>"
     },
     "metadata": {},
     "execution_count": 3
    }
   ],
   "source": [
    "df.head()"
   ]
  },
  {
   "cell_type": "code",
   "execution_count": 15,
   "metadata": {},
   "outputs": [
    {
     "output_type": "stream",
     "name": "stdout",
     "text": [
      "<class 'pandas.core.frame.DataFrame'>\nRangeIndex: 619040 entries, 0 to 619039\nData columns (total 7 columns):\n #   Column  Non-Null Count   Dtype  \n---  ------  --------------   -----  \n 0   date    619040 non-null  object \n 1   open    619029 non-null  float64\n 2   high    619032 non-null  float64\n 3   low     619032 non-null  float64\n 4   close   619040 non-null  float64\n 5   volume  619040 non-null  int64  \n 6   Name    619040 non-null  object \ndtypes: float64(4), int64(1), object(2)\nmemory usage: 33.1+ MB\n"
     ]
    }
   ],
   "source": [
    "df.info()"
   ]
  },
  {
   "cell_type": "code",
   "execution_count": 17,
   "metadata": {},
   "outputs": [
    {
     "output_type": "execute_result",
     "data": {
      "text/plain": [
       "array(['AAL', 'AAPL', 'AAP', 'ABBV', 'ABC', 'ABT', 'ACN', 'ADBE', 'ADI',\n",
       "       'ADM', 'ADP', 'ADSK', 'ADS', 'AEE', 'AEP', 'AES', 'AET', 'AFL',\n",
       "       'AGN', 'AIG', 'AIV', 'AIZ', 'AJG', 'AKAM', 'ALB', 'ALGN', 'ALK',\n",
       "       'ALLE', 'ALL', 'ALXN', 'AMAT', 'AMD', 'AME', 'AMGN', 'AMG', 'AMP',\n",
       "       'AMT', 'AMZN', 'ANDV', 'ANSS', 'ANTM', 'AON', 'AOS', 'APA', 'APC',\n",
       "       'APD', 'APH', 'APTV', 'ARE', 'ARNC', 'ATVI', 'AVB', 'AVGO', 'AVY',\n",
       "       'AWK', 'AXP', 'AYI', 'AZO', 'A', 'BAC', 'BAX', 'BA', 'BBT', 'BBY',\n",
       "       'BDX', 'BEN', 'BF.B', 'BHF', 'BHGE', 'BIIB', 'BK', 'BLK', 'BLL',\n",
       "       'BMY', 'BRK.B', 'BSX', 'BWA', 'BXP', 'CAG', 'CAH', 'CAT', 'CA',\n",
       "       'CBG', 'CBOE', 'CBS', 'CB', 'CCI', 'CCL', 'CDNS', 'CELG', 'CERN',\n",
       "       'CFG', 'CF', 'CHD', 'CHK', 'CHRW', 'CHTR', 'CINF', 'CI', 'CLX',\n",
       "       'CL', 'CMA', 'CMCSA', 'CME', 'CMG', 'CMI', 'CMS', 'CNC', 'CNP',\n",
       "       'COF', 'COG', 'COL', 'COO', 'COP', 'COST', 'COTY', 'CPB', 'CRM',\n",
       "       'CSCO', 'CSRA', 'CSX', 'CTAS', 'CTL', 'CTSH', 'CTXS', 'CVS', 'CVX',\n",
       "       'CXO', 'C', 'DAL', 'DE', 'DFS', 'DGX', 'DG', 'DHI', 'DHR', 'DISCA',\n",
       "       'DISCK', 'DISH', 'DIS', 'DLR', 'DLTR', 'DOV', 'DPS', 'DRE', 'DRI',\n",
       "       'DTE', 'DUK', 'DVA', 'DVN', 'DWDP', 'DXC', 'D', 'EA', 'EBAY',\n",
       "       'ECL', 'ED', 'EFX', 'EIX', 'EL', 'EMN', 'EMR', 'EOG', 'EQIX',\n",
       "       'EQR', 'EQT', 'ESRX', 'ESS', 'ES', 'ETFC', 'ETN', 'ETR', 'EVHC',\n",
       "       'EW', 'EXC', 'EXPD', 'EXPE', 'EXR', 'FAST', 'FBHS', 'FB', 'FCX',\n",
       "       'FDX', 'FE', 'FFIV', 'FISV', 'FIS', 'FITB', 'FLIR', 'FLR', 'FLS',\n",
       "       'FL', 'FMC', 'FOXA', 'FOX', 'FRT', 'FTI', 'FTV', 'F', 'GD', 'GE',\n",
       "       'GGP', 'GILD', 'GIS', 'GLW', 'GM', 'GOOGL', 'GOOG', 'GPC', 'GPN',\n",
       "       'GPS', 'GRMN', 'GS', 'GT', 'GWW', 'HAL', 'HAS', 'HBAN', 'HBI',\n",
       "       'HCA', 'HCN', 'HCP', 'HD', 'HES', 'HIG', 'HII', 'HLT', 'HOG',\n",
       "       'HOLX', 'HON', 'HPE', 'HPQ', 'HP', 'HRB', 'HRL', 'HRS', 'HSIC',\n",
       "       'HST', 'HSY', 'HUM', 'IBM', 'ICE', 'IDXX', 'IFF', 'ILMN', 'INCY',\n",
       "       'INFO', 'INTC', 'INTU', 'IPG', 'IP', 'IQV', 'IRM', 'IR', 'ISRG',\n",
       "       'ITW', 'IT', 'IVZ', 'JBHT', 'JCI', 'JEC', 'JNJ', 'JNPR', 'JPM',\n",
       "       'JWN', 'KEY', 'KHC', 'KIM', 'KLAC', 'KMB', 'KMI', 'KMX', 'KORS',\n",
       "       'KO', 'KR', 'KSS', 'KSU', 'K', 'LB', 'LEG', 'LEN', 'LH', 'LKQ',\n",
       "       'LLL', 'LLY', 'LMT', 'LNC', 'LNT', 'LOW', 'LRCX', 'LUK', 'LUV',\n",
       "       'LYB', 'L', 'MAA', 'MAC', 'MAR', 'MAS', 'MAT', 'MA', 'MCD', 'MCHP',\n",
       "       'MCK', 'MCO', 'MDLZ', 'MDT', 'MET', 'MGM', 'MHK', 'MKC', 'MLM',\n",
       "       'MMC', 'MMM', 'MNST', 'MON', 'MOS', 'MO', 'MPC', 'MRK', 'MRO',\n",
       "       'MSFT', 'MSI', 'MS', 'MTB', 'MTD', 'MU', 'MYL', 'M', 'NAVI', 'NBL',\n",
       "       'NCLH', 'NDAQ', 'NEE', 'NEM', 'NFLX', 'NFX', 'NI', 'NKE', 'NLSN',\n",
       "       'NOC', 'NOV', 'NRG', 'NSC', 'NTAP', 'NTRS', 'NUE', 'NVDA', 'NWL',\n",
       "       'NWSA', 'NWS', 'OKE', 'OMC', 'ORCL', 'ORLY', 'OXY', 'O', 'PAYX',\n",
       "       'PBCT', 'PCAR', 'PCG', 'PCLN', 'PDCO', 'PEG', 'PEP', 'PFE', 'PFG',\n",
       "       'PGR', 'PG', 'PHM', 'PH', 'PKG', 'PKI', 'PLD', 'PM', 'PNC', 'PNR',\n",
       "       'PNW', 'PPG', 'PPL', 'PRGO', 'PRU', 'PSA', 'PSX', 'PVH', 'PWR',\n",
       "       'PXD', 'PX', 'PYPL', 'QCOM', 'QRVO', 'RCL', 'REGN', 'REG', 'RE',\n",
       "       'RF', 'RHI', 'RHT', 'RJF', 'RL', 'RMD', 'ROK', 'ROP', 'ROST',\n",
       "       'RRC', 'RSG', 'RTN', 'SBAC', 'SBUX', 'SCG', 'SCHW', 'SEE', 'SHW',\n",
       "       'SIG', 'SJM', 'SLB', 'SLG', 'SNA', 'SNI', 'SNPS', 'SO', 'SPGI',\n",
       "       'SPG', 'SRCL', 'SRE', 'STI', 'STT', 'STX', 'STZ', 'SWKS', 'SWK',\n",
       "       'SYF', 'SYK', 'SYMC', 'SYY', 'TAP', 'TDG', 'TEL', 'TGT', 'TIF',\n",
       "       'TJX', 'TMK', 'TMO', 'TPR', 'TRIP', 'TROW', 'TRV', 'TSCO', 'TSN',\n",
       "       'TSS', 'TWX', 'TXN', 'TXT', 'T', 'UAA', 'UAL', 'UA', 'UDR', 'UHS',\n",
       "       'ULTA', 'UNH', 'UNM', 'UNP', 'UPS', 'URI', 'USB', 'UTX', 'VAR',\n",
       "       'VFC', 'VIAB', 'VLO', 'VMC', 'VNO', 'VRSK', 'VRSN', 'VRTX', 'VTR',\n",
       "       'VZ', 'V', 'WAT', 'WBA', 'WDC', 'WEC', 'WFC', 'WHR', 'WLTW', 'WMB',\n",
       "       'WMT', 'WM', 'WRK', 'WU', 'WYNN', 'WYN', 'WY', 'XEC', 'XEL',\n",
       "       'XLNX', 'XL', 'XOM', 'XRAY', 'XRX', 'XYL', 'YUM', 'ZBH', 'ZION',\n",
       "       'ZTS'], dtype=object)"
      ]
     },
     "metadata": {},
     "execution_count": 17
    }
   ],
   "source": [
    "df['Name'].unique()"
   ]
  },
  {
   "cell_type": "code",
   "execution_count": 18,
   "metadata": {},
   "outputs": [
    {
     "output_type": "execute_result",
     "data": {
      "text/plain": [
       "(505,)"
      ]
     },
     "metadata": {},
     "execution_count": 18
    }
   ],
   "source": [
    "df['Name'].unique().shape"
   ]
  },
  {
   "cell_type": "code",
   "execution_count": 10,
   "metadata": {},
   "outputs": [],
   "source": [
    "ibm = df[df['Name'] == 'IBM']"
   ]
  },
  {
   "cell_type": "code",
   "execution_count": 11,
   "metadata": {},
   "outputs": [
    {
     "output_type": "execute_result",
     "data": {
      "text/plain": [
       "290491    201.68\n",
       "290492    200.16\n",
       "290493    200.04\n",
       "290494    200.09\n",
       "290495    199.65\n",
       "           ...  \n",
       "291745    162.40\n",
       "291746    159.03\n",
       "291747    152.53\n",
       "291748    155.34\n",
       "291749    153.85\n",
       "Name: close, Length: 1259, dtype: float64"
      ]
     },
     "metadata": {},
     "execution_count": 11
    }
   ],
   "source": [
    "ibm['close']"
   ]
  },
  {
   "cell_type": "code",
   "execution_count": 13,
   "metadata": {},
   "outputs": [
    {
     "output_type": "execute_result",
     "data": {
      "text/plain": [
       "<AxesSubplot:>"
      ]
     },
     "metadata": {},
     "execution_count": 13
    },
    {
     "output_type": "display_data",
     "data": {
      "text/plain": "<Figure size 432x288 with 1 Axes>",
      "image/svg+xml": "<?xml version=\"1.0\" encoding=\"utf-8\" standalone=\"no\"?>\r\n<!DOCTYPE svg PUBLIC \"-//W3C//DTD SVG 1.1//EN\"\r\n  \"http://www.w3.org/Graphics/SVG/1.1/DTD/svg11.dtd\">\r\n<!-- Created with matplotlib (https://matplotlib.org/) -->\r\n<svg height=\"250.90972pt\" version=\"1.1\" viewBox=\"0 0 391.495885 250.90972\" width=\"391.495885pt\" xmlns=\"http://www.w3.org/2000/svg\" xmlns:xlink=\"http://www.w3.org/1999/xlink\">\r\n <metadata>\r\n  <rdf:RDF xmlns:cc=\"http://creativecommons.org/ns#\" xmlns:dc=\"http://purl.org/dc/elements/1.1/\" xmlns:rdf=\"http://www.w3.org/1999/02/22-rdf-syntax-ns#\">\r\n   <cc:Work>\r\n    <dc:type rdf:resource=\"http://purl.org/dc/dcmitype/StillImage\"/>\r\n    <dc:date>2021-02-14T10:41:27.169250</dc:date>\r\n    <dc:format>image/svg+xml</dc:format>\r\n    <dc:creator>\r\n     <cc:Agent>\r\n      <dc:title>Matplotlib v3.3.2, https://matplotlib.org/</dc:title>\r\n     </cc:Agent>\r\n    </dc:creator>\r\n   </cc:Work>\r\n  </rdf:RDF>\r\n </metadata>\r\n <defs>\r\n  <style type=\"text/css\">*{stroke-linecap:butt;stroke-linejoin:round;}</style>\r\n </defs>\r\n <g id=\"figure_1\">\r\n  <g id=\"patch_1\">\r\n   <path d=\"M 0 250.90972 \r\nL 391.495885 250.90972 \r\nL 391.495885 0 \r\nL 0 0 \r\nz\r\n\" style=\"fill:none;\"/>\r\n  </g>\r\n  <g id=\"axes_1\">\r\n   <g id=\"patch_2\">\r\n    <path d=\"M 33.2875 227.031595 \r\nL 368.0875 227.031595 \r\nL 368.0875 9.591595 \r\nL 33.2875 9.591595 \r\nz\r\n\" style=\"fill:#ffffff;\"/>\r\n   </g>\r\n   <g id=\"matplotlib.axis_1\">\r\n    <g id=\"xtick_1\">\r\n     <g id=\"line2d_1\">\r\n      <defs>\r\n       <path d=\"M 0 0 \r\nL 0 3.5 \r\n\" id=\"m92cf4b9dfa\" style=\"stroke:#000000;stroke-width:0.8;\"/>\r\n      </defs>\r\n      <g>\r\n       <use style=\"stroke:#000000;stroke-width:0.8;\" x=\"74.877412\" xlink:href=\"#m92cf4b9dfa\" y=\"227.031595\"/>\r\n      </g>\r\n     </g>\r\n     <g id=\"text_1\">\r\n      <!-- 290600 -->\r\n      <g transform=\"translate(55.789912 241.630033)scale(0.1 -0.1)\">\r\n       <defs>\r\n        <path d=\"M 19.1875 8.296875 \r\nL 53.609375 8.296875 \r\nL 53.609375 0 \r\nL 7.328125 0 \r\nL 7.328125 8.296875 \r\nQ 12.9375 14.109375 22.625 23.890625 \r\nQ 32.328125 33.6875 34.8125 36.53125 \r\nQ 39.546875 41.84375 41.421875 45.53125 \r\nQ 43.3125 49.21875 43.3125 52.78125 \r\nQ 43.3125 58.59375 39.234375 62.25 \r\nQ 35.15625 65.921875 28.609375 65.921875 \r\nQ 23.96875 65.921875 18.8125 64.3125 \r\nQ 13.671875 62.703125 7.8125 59.421875 \r\nL 7.8125 69.390625 \r\nQ 13.765625 71.78125 18.9375 73 \r\nQ 24.125 74.21875 28.421875 74.21875 \r\nQ 39.75 74.21875 46.484375 68.546875 \r\nQ 53.21875 62.890625 53.21875 53.421875 \r\nQ 53.21875 48.921875 51.53125 44.890625 \r\nQ 49.859375 40.875 45.40625 35.40625 \r\nQ 44.1875 33.984375 37.640625 27.21875 \r\nQ 31.109375 20.453125 19.1875 8.296875 \r\nz\r\n\" id=\"DejaVuSans-50\"/>\r\n        <path d=\"M 10.984375 1.515625 \r\nL 10.984375 10.5 \r\nQ 14.703125 8.734375 18.5 7.8125 \r\nQ 22.3125 6.890625 25.984375 6.890625 \r\nQ 35.75 6.890625 40.890625 13.453125 \r\nQ 46.046875 20.015625 46.78125 33.40625 \r\nQ 43.953125 29.203125 39.59375 26.953125 \r\nQ 35.25 24.703125 29.984375 24.703125 \r\nQ 19.046875 24.703125 12.671875 31.3125 \r\nQ 6.296875 37.9375 6.296875 49.421875 \r\nQ 6.296875 60.640625 12.9375 67.421875 \r\nQ 19.578125 74.21875 30.609375 74.21875 \r\nQ 43.265625 74.21875 49.921875 64.515625 \r\nQ 56.59375 54.828125 56.59375 36.375 \r\nQ 56.59375 19.140625 48.40625 8.859375 \r\nQ 40.234375 -1.421875 26.421875 -1.421875 \r\nQ 22.703125 -1.421875 18.890625 -0.6875 \r\nQ 15.09375 0.046875 10.984375 1.515625 \r\nz\r\nM 30.609375 32.421875 \r\nQ 37.25 32.421875 41.125 36.953125 \r\nQ 45.015625 41.5 45.015625 49.421875 \r\nQ 45.015625 57.28125 41.125 61.84375 \r\nQ 37.25 66.40625 30.609375 66.40625 \r\nQ 23.96875 66.40625 20.09375 61.84375 \r\nQ 16.21875 57.28125 16.21875 49.421875 \r\nQ 16.21875 41.5 20.09375 36.953125 \r\nQ 23.96875 32.421875 30.609375 32.421875 \r\nz\r\n\" id=\"DejaVuSans-57\"/>\r\n        <path d=\"M 31.78125 66.40625 \r\nQ 24.171875 66.40625 20.328125 58.90625 \r\nQ 16.5 51.421875 16.5 36.375 \r\nQ 16.5 21.390625 20.328125 13.890625 \r\nQ 24.171875 6.390625 31.78125 6.390625 \r\nQ 39.453125 6.390625 43.28125 13.890625 \r\nQ 47.125 21.390625 47.125 36.375 \r\nQ 47.125 51.421875 43.28125 58.90625 \r\nQ 39.453125 66.40625 31.78125 66.40625 \r\nz\r\nM 31.78125 74.21875 \r\nQ 44.046875 74.21875 50.515625 64.515625 \r\nQ 56.984375 54.828125 56.984375 36.375 \r\nQ 56.984375 17.96875 50.515625 8.265625 \r\nQ 44.046875 -1.421875 31.78125 -1.421875 \r\nQ 19.53125 -1.421875 13.0625 8.265625 \r\nQ 6.59375 17.96875 6.59375 36.375 \r\nQ 6.59375 54.828125 13.0625 64.515625 \r\nQ 19.53125 74.21875 31.78125 74.21875 \r\nz\r\n\" id=\"DejaVuSans-48\"/>\r\n        <path d=\"M 33.015625 40.375 \r\nQ 26.375 40.375 22.484375 35.828125 \r\nQ 18.609375 31.296875 18.609375 23.390625 \r\nQ 18.609375 15.53125 22.484375 10.953125 \r\nQ 26.375 6.390625 33.015625 6.390625 \r\nQ 39.65625 6.390625 43.53125 10.953125 \r\nQ 47.40625 15.53125 47.40625 23.390625 \r\nQ 47.40625 31.296875 43.53125 35.828125 \r\nQ 39.65625 40.375 33.015625 40.375 \r\nz\r\nM 52.59375 71.296875 \r\nL 52.59375 62.3125 \r\nQ 48.875 64.0625 45.09375 64.984375 \r\nQ 41.3125 65.921875 37.59375 65.921875 \r\nQ 27.828125 65.921875 22.671875 59.328125 \r\nQ 17.53125 52.734375 16.796875 39.40625 \r\nQ 19.671875 43.65625 24.015625 45.921875 \r\nQ 28.375 48.1875 33.59375 48.1875 \r\nQ 44.578125 48.1875 50.953125 41.515625 \r\nQ 57.328125 34.859375 57.328125 23.390625 \r\nQ 57.328125 12.15625 50.6875 5.359375 \r\nQ 44.046875 -1.421875 33.015625 -1.421875 \r\nQ 20.359375 -1.421875 13.671875 8.265625 \r\nQ 6.984375 17.96875 6.984375 36.375 \r\nQ 6.984375 53.65625 15.1875 63.9375 \r\nQ 23.390625 74.21875 37.203125 74.21875 \r\nQ 40.921875 74.21875 44.703125 73.484375 \r\nQ 48.484375 72.75 52.59375 71.296875 \r\nz\r\n\" id=\"DejaVuSans-54\"/>\r\n       </defs>\r\n       <use xlink:href=\"#DejaVuSans-50\"/>\r\n       <use x=\"63.623047\" xlink:href=\"#DejaVuSans-57\"/>\r\n       <use x=\"127.246094\" xlink:href=\"#DejaVuSans-48\"/>\r\n       <use x=\"190.869141\" xlink:href=\"#DejaVuSans-54\"/>\r\n       <use x=\"254.492188\" xlink:href=\"#DejaVuSans-48\"/>\r\n       <use x=\"318.115234\" xlink:href=\"#DejaVuSans-48\"/>\r\n      </g>\r\n     </g>\r\n    </g>\r\n    <g id=\"xtick_2\">\r\n     <g id=\"line2d_2\">\r\n      <g>\r\n       <use style=\"stroke:#000000;stroke-width:0.8;\" x=\"123.265907\" xlink:href=\"#m92cf4b9dfa\" y=\"227.031595\"/>\r\n      </g>\r\n     </g>\r\n     <g id=\"text_2\">\r\n      <!-- 290800 -->\r\n      <g transform=\"translate(104.178407 241.630033)scale(0.1 -0.1)\">\r\n       <defs>\r\n        <path d=\"M 31.78125 34.625 \r\nQ 24.75 34.625 20.71875 30.859375 \r\nQ 16.703125 27.09375 16.703125 20.515625 \r\nQ 16.703125 13.921875 20.71875 10.15625 \r\nQ 24.75 6.390625 31.78125 6.390625 \r\nQ 38.8125 6.390625 42.859375 10.171875 \r\nQ 46.921875 13.96875 46.921875 20.515625 \r\nQ 46.921875 27.09375 42.890625 30.859375 \r\nQ 38.875 34.625 31.78125 34.625 \r\nz\r\nM 21.921875 38.8125 \r\nQ 15.578125 40.375 12.03125 44.71875 \r\nQ 8.5 49.078125 8.5 55.328125 \r\nQ 8.5 64.0625 14.71875 69.140625 \r\nQ 20.953125 74.21875 31.78125 74.21875 \r\nQ 42.671875 74.21875 48.875 69.140625 \r\nQ 55.078125 64.0625 55.078125 55.328125 \r\nQ 55.078125 49.078125 51.53125 44.71875 \r\nQ 48 40.375 41.703125 38.8125 \r\nQ 48.828125 37.15625 52.796875 32.3125 \r\nQ 56.78125 27.484375 56.78125 20.515625 \r\nQ 56.78125 9.90625 50.3125 4.234375 \r\nQ 43.84375 -1.421875 31.78125 -1.421875 \r\nQ 19.734375 -1.421875 13.25 4.234375 \r\nQ 6.78125 9.90625 6.78125 20.515625 \r\nQ 6.78125 27.484375 10.78125 32.3125 \r\nQ 14.796875 37.15625 21.921875 38.8125 \r\nz\r\nM 18.3125 54.390625 \r\nQ 18.3125 48.734375 21.84375 45.5625 \r\nQ 25.390625 42.390625 31.78125 42.390625 \r\nQ 38.140625 42.390625 41.71875 45.5625 \r\nQ 45.3125 48.734375 45.3125 54.390625 \r\nQ 45.3125 60.0625 41.71875 63.234375 \r\nQ 38.140625 66.40625 31.78125 66.40625 \r\nQ 25.390625 66.40625 21.84375 63.234375 \r\nQ 18.3125 60.0625 18.3125 54.390625 \r\nz\r\n\" id=\"DejaVuSans-56\"/>\r\n       </defs>\r\n       <use xlink:href=\"#DejaVuSans-50\"/>\r\n       <use x=\"63.623047\" xlink:href=\"#DejaVuSans-57\"/>\r\n       <use x=\"127.246094\" xlink:href=\"#DejaVuSans-48\"/>\r\n       <use x=\"190.869141\" xlink:href=\"#DejaVuSans-56\"/>\r\n       <use x=\"254.492188\" xlink:href=\"#DejaVuSans-48\"/>\r\n       <use x=\"318.115234\" xlink:href=\"#DejaVuSans-48\"/>\r\n      </g>\r\n     </g>\r\n    </g>\r\n    <g id=\"xtick_3\">\r\n     <g id=\"line2d_3\">\r\n      <g>\r\n       <use style=\"stroke:#000000;stroke-width:0.8;\" x=\"171.654403\" xlink:href=\"#m92cf4b9dfa\" y=\"227.031595\"/>\r\n      </g>\r\n     </g>\r\n     <g id=\"text_3\">\r\n      <!-- 291000 -->\r\n      <g transform=\"translate(152.566903 241.630033)scale(0.1 -0.1)\">\r\n       <defs>\r\n        <path d=\"M 12.40625 8.296875 \r\nL 28.515625 8.296875 \r\nL 28.515625 63.921875 \r\nL 10.984375 60.40625 \r\nL 10.984375 69.390625 \r\nL 28.421875 72.90625 \r\nL 38.28125 72.90625 \r\nL 38.28125 8.296875 \r\nL 54.390625 8.296875 \r\nL 54.390625 0 \r\nL 12.40625 0 \r\nz\r\n\" id=\"DejaVuSans-49\"/>\r\n       </defs>\r\n       <use xlink:href=\"#DejaVuSans-50\"/>\r\n       <use x=\"63.623047\" xlink:href=\"#DejaVuSans-57\"/>\r\n       <use x=\"127.246094\" xlink:href=\"#DejaVuSans-49\"/>\r\n       <use x=\"190.869141\" xlink:href=\"#DejaVuSans-48\"/>\r\n       <use x=\"254.492188\" xlink:href=\"#DejaVuSans-48\"/>\r\n       <use x=\"318.115234\" xlink:href=\"#DejaVuSans-48\"/>\r\n      </g>\r\n     </g>\r\n    </g>\r\n    <g id=\"xtick_4\">\r\n     <g id=\"line2d_4\">\r\n      <g>\r\n       <use style=\"stroke:#000000;stroke-width:0.8;\" x=\"220.042898\" xlink:href=\"#m92cf4b9dfa\" y=\"227.031595\"/>\r\n      </g>\r\n     </g>\r\n     <g id=\"text_4\">\r\n      <!-- 291200 -->\r\n      <g transform=\"translate(200.955398 241.630033)scale(0.1 -0.1)\">\r\n       <use xlink:href=\"#DejaVuSans-50\"/>\r\n       <use x=\"63.623047\" xlink:href=\"#DejaVuSans-57\"/>\r\n       <use x=\"127.246094\" xlink:href=\"#DejaVuSans-49\"/>\r\n       <use x=\"190.869141\" xlink:href=\"#DejaVuSans-50\"/>\r\n       <use x=\"254.492188\" xlink:href=\"#DejaVuSans-48\"/>\r\n       <use x=\"318.115234\" xlink:href=\"#DejaVuSans-48\"/>\r\n      </g>\r\n     </g>\r\n    </g>\r\n    <g id=\"xtick_5\">\r\n     <g id=\"line2d_5\">\r\n      <g>\r\n       <use style=\"stroke:#000000;stroke-width:0.8;\" x=\"268.431394\" xlink:href=\"#m92cf4b9dfa\" y=\"227.031595\"/>\r\n      </g>\r\n     </g>\r\n     <g id=\"text_5\">\r\n      <!-- 291400 -->\r\n      <g transform=\"translate(249.343894 241.630033)scale(0.1 -0.1)\">\r\n       <defs>\r\n        <path d=\"M 37.796875 64.3125 \r\nL 12.890625 25.390625 \r\nL 37.796875 25.390625 \r\nz\r\nM 35.203125 72.90625 \r\nL 47.609375 72.90625 \r\nL 47.609375 25.390625 \r\nL 58.015625 25.390625 \r\nL 58.015625 17.1875 \r\nL 47.609375 17.1875 \r\nL 47.609375 0 \r\nL 37.796875 0 \r\nL 37.796875 17.1875 \r\nL 4.890625 17.1875 \r\nL 4.890625 26.703125 \r\nz\r\n\" id=\"DejaVuSans-52\"/>\r\n       </defs>\r\n       <use xlink:href=\"#DejaVuSans-50\"/>\r\n       <use x=\"63.623047\" xlink:href=\"#DejaVuSans-57\"/>\r\n       <use x=\"127.246094\" xlink:href=\"#DejaVuSans-49\"/>\r\n       <use x=\"190.869141\" xlink:href=\"#DejaVuSans-52\"/>\r\n       <use x=\"254.492188\" xlink:href=\"#DejaVuSans-48\"/>\r\n       <use x=\"318.115234\" xlink:href=\"#DejaVuSans-48\"/>\r\n      </g>\r\n     </g>\r\n    </g>\r\n    <g id=\"xtick_6\">\r\n     <g id=\"line2d_6\">\r\n      <g>\r\n       <use style=\"stroke:#000000;stroke-width:0.8;\" x=\"316.819889\" xlink:href=\"#m92cf4b9dfa\" y=\"227.031595\"/>\r\n      </g>\r\n     </g>\r\n     <g id=\"text_6\">\r\n      <!-- 291600 -->\r\n      <g transform=\"translate(297.732389 241.630033)scale(0.1 -0.1)\">\r\n       <use xlink:href=\"#DejaVuSans-50\"/>\r\n       <use x=\"63.623047\" xlink:href=\"#DejaVuSans-57\"/>\r\n       <use x=\"127.246094\" xlink:href=\"#DejaVuSans-49\"/>\r\n       <use x=\"190.869141\" xlink:href=\"#DejaVuSans-54\"/>\r\n       <use x=\"254.492188\" xlink:href=\"#DejaVuSans-48\"/>\r\n       <use x=\"318.115234\" xlink:href=\"#DejaVuSans-48\"/>\r\n      </g>\r\n     </g>\r\n    </g>\r\n    <g id=\"xtick_7\">\r\n     <g id=\"line2d_7\">\r\n      <g>\r\n       <use style=\"stroke:#000000;stroke-width:0.8;\" x=\"365.208385\" xlink:href=\"#m92cf4b9dfa\" y=\"227.031595\"/>\r\n      </g>\r\n     </g>\r\n     <g id=\"text_7\">\r\n      <!-- 291800 -->\r\n      <g transform=\"translate(346.120885 241.630033)scale(0.1 -0.1)\">\r\n       <use xlink:href=\"#DejaVuSans-50\"/>\r\n       <use x=\"63.623047\" xlink:href=\"#DejaVuSans-57\"/>\r\n       <use x=\"127.246094\" xlink:href=\"#DejaVuSans-49\"/>\r\n       <use x=\"190.869141\" xlink:href=\"#DejaVuSans-56\"/>\r\n       <use x=\"254.492188\" xlink:href=\"#DejaVuSans-48\"/>\r\n       <use x=\"318.115234\" xlink:href=\"#DejaVuSans-48\"/>\r\n      </g>\r\n     </g>\r\n    </g>\r\n   </g>\r\n   <g id=\"matplotlib.axis_2\">\r\n    <g id=\"ytick_1\">\r\n     <g id=\"line2d_8\">\r\n      <defs>\r\n       <path d=\"M 0 0 \r\nL -3.5 0 \r\n\" id=\"mbf4ee4a17e\" style=\"stroke:#000000;stroke-width:0.8;\"/>\r\n      </defs>\r\n      <g>\r\n       <use style=\"stroke:#000000;stroke-width:0.8;\" x=\"33.2875\" xlink:href=\"#mbf4ee4a17e\" y=\"212.809048\"/>\r\n      </g>\r\n     </g>\r\n     <g id=\"text_8\">\r\n      <!-- 120 -->\r\n      <g transform=\"translate(7.2 216.608266)scale(0.1 -0.1)\">\r\n       <use xlink:href=\"#DejaVuSans-49\"/>\r\n       <use x=\"63.623047\" xlink:href=\"#DejaVuSans-50\"/>\r\n       <use x=\"127.246094\" xlink:href=\"#DejaVuSans-48\"/>\r\n      </g>\r\n     </g>\r\n    </g>\r\n    <g id=\"ytick_2\">\r\n     <g id=\"line2d_9\">\r\n      <g>\r\n       <use style=\"stroke:#000000;stroke-width:0.8;\" x=\"33.2875\" xlink:href=\"#mbf4ee4a17e\" y=\"172.447082\"/>\r\n      </g>\r\n     </g>\r\n     <g id=\"text_9\">\r\n      <!-- 140 -->\r\n      <g transform=\"translate(7.2 176.246301)scale(0.1 -0.1)\">\r\n       <use xlink:href=\"#DejaVuSans-49\"/>\r\n       <use x=\"63.623047\" xlink:href=\"#DejaVuSans-52\"/>\r\n       <use x=\"127.246094\" xlink:href=\"#DejaVuSans-48\"/>\r\n      </g>\r\n     </g>\r\n    </g>\r\n    <g id=\"ytick_3\">\r\n     <g id=\"line2d_10\">\r\n      <g>\r\n       <use style=\"stroke:#000000;stroke-width:0.8;\" x=\"33.2875\" xlink:href=\"#mbf4ee4a17e\" y=\"132.085116\"/>\r\n      </g>\r\n     </g>\r\n     <g id=\"text_10\">\r\n      <!-- 160 -->\r\n      <g transform=\"translate(7.2 135.884335)scale(0.1 -0.1)\">\r\n       <use xlink:href=\"#DejaVuSans-49\"/>\r\n       <use x=\"63.623047\" xlink:href=\"#DejaVuSans-54\"/>\r\n       <use x=\"127.246094\" xlink:href=\"#DejaVuSans-48\"/>\r\n      </g>\r\n     </g>\r\n    </g>\r\n    <g id=\"ytick_4\">\r\n     <g id=\"line2d_11\">\r\n      <g>\r\n       <use style=\"stroke:#000000;stroke-width:0.8;\" x=\"33.2875\" xlink:href=\"#mbf4ee4a17e\" y=\"91.72315\"/>\r\n      </g>\r\n     </g>\r\n     <g id=\"text_11\">\r\n      <!-- 180 -->\r\n      <g transform=\"translate(7.2 95.522369)scale(0.1 -0.1)\">\r\n       <use xlink:href=\"#DejaVuSans-49\"/>\r\n       <use x=\"63.623047\" xlink:href=\"#DejaVuSans-56\"/>\r\n       <use x=\"127.246094\" xlink:href=\"#DejaVuSans-48\"/>\r\n      </g>\r\n     </g>\r\n    </g>\r\n    <g id=\"ytick_5\">\r\n     <g id=\"line2d_12\">\r\n      <g>\r\n       <use style=\"stroke:#000000;stroke-width:0.8;\" x=\"33.2875\" xlink:href=\"#mbf4ee4a17e\" y=\"51.361185\"/>\r\n      </g>\r\n     </g>\r\n     <g id=\"text_12\">\r\n      <!-- 200 -->\r\n      <g transform=\"translate(7.2 55.160403)scale(0.1 -0.1)\">\r\n       <use xlink:href=\"#DejaVuSans-50\"/>\r\n       <use x=\"63.623047\" xlink:href=\"#DejaVuSans-48\"/>\r\n       <use x=\"127.246094\" xlink:href=\"#DejaVuSans-48\"/>\r\n      </g>\r\n     </g>\r\n    </g>\r\n    <g id=\"ytick_6\">\r\n     <g id=\"line2d_13\">\r\n      <g>\r\n       <use style=\"stroke:#000000;stroke-width:0.8;\" x=\"33.2875\" xlink:href=\"#mbf4ee4a17e\" y=\"10.999219\"/>\r\n      </g>\r\n     </g>\r\n     <g id=\"text_13\">\r\n      <!-- 220 -->\r\n      <g transform=\"translate(7.2 14.798437)scale(0.1 -0.1)\">\r\n       <use xlink:href=\"#DejaVuSans-50\"/>\r\n       <use x=\"63.623047\" xlink:href=\"#DejaVuSans-50\"/>\r\n       <use x=\"127.246094\" xlink:href=\"#DejaVuSans-48\"/>\r\n      </g>\r\n     </g>\r\n    </g>\r\n   </g>\r\n   <g id=\"line2d_14\">\r\n    <path clip-path=\"url(#p0db0b7d2f9)\" d=\"M 48.505682 47.970779 \r\nL 48.747624 51.038289 \r\nL 48.989567 51.280461 \r\nL 49.231509 51.179556 \r\nL 49.473452 52.067519 \r\nL 49.715394 49.383448 \r\nL 49.957337 50.715393 \r\nL 50.441222 54.731409 \r\nL 50.683164 49.161457 \r\nL 50.925107 56.386249 \r\nL 51.167049 53.096749 \r\nL 51.408992 46.659015 \r\nL 51.650934 49.686163 \r\nL 52.618704 34.449521 \r\nL 53.102589 30.413324 \r\nL 53.344531 31.018754 \r\nL 53.586474 30.070248 \r\nL 53.828416 27.022919 \r\nL 54.070359 19.475232 \r\nL 54.312301 21.251158 \r\nL 54.554244 24.702106 \r\nL 54.796186 24.237944 \r\nL 55.038129 20.968624 \r\nL 55.280071 26.619299 \r\nL 55.522014 26.982557 \r\nL 55.763956 29.686809 \r\nL 56.005899 26.41749 \r\nL 56.247841 29.384094 \r\nL 56.489784 24.520477 \r\nL 56.731726 26.377128 \r\nL 56.973669 22.381293 \r\nL 57.699496 32.37088 \r\nL 58.183381 32.754318 \r\nL 58.425323 27.144005 \r\nL 58.667266 25.287355 \r\nL 59.151151 32.673594 \r\nL 59.393093 27.144005 \r\nL 59.876978 36.931782 \r\nL 60.118921 71.542167 \r\nL 60.360863 75.921441 \r\nL 60.602806 68.293029 \r\nL 60.844748 68.091219 \r\nL 61.086691 63.570679 \r\nL 61.328633 62.844164 \r\nL 61.812518 46.235215 \r\nL 62.054461 52.107881 \r\nL 62.538345 42.259561 \r\nL 62.780288 45.750871 \r\nL 63.264173 41.633951 \r\nL 63.506115 44.822546 \r\nL 63.748058 42.340285 \r\nL 63.99 46.376482 \r\nL 64.231943 44.883089 \r\nL 64.473885 44.661098 \r\nL 64.715828 41.896304 \r\nL 64.95777 34.328435 \r\nL 65.199713 36.023638 \r\nL 65.441655 33.904634 \r\nL 65.683598 37.254677 \r\nL 65.92554 38.929699 \r\nL 66.167483 39.817662 \r\nL 66.409425 35.66038 \r\nL 66.651368 35.377846 \r\nL 66.89331 32.471785 \r\nL 67.135253 35.176036 \r\nL 67.377195 33.299205 \r\nL 67.86108 45.831595 \r\nL 68.103022 43.692411 \r\nL 68.344965 38.54626 \r\nL 68.82885 43.329153 \r\nL 69.070792 48.939467 \r\nL 69.312735 43.752954 \r\nL 69.554677 46.921368 \r\nL 69.79662 45.226166 \r\nL 70.038562 41.533046 \r\nL 70.280505 47.446074 \r\nL 70.522447 56.709145 \r\nL 71.006332 64.398099 \r\nL 71.248275 61.492038 \r\nL 71.490217 61.73421 \r\nL 71.73216 60.139912 \r\nL 71.974102 69.302078 \r\nL 72.457987 68.51502 \r\nL 72.941872 61.592943 \r\nL 73.183814 61.492038 \r\nL 73.425757 68.91864 \r\nL 73.909642 65.891492 \r\nL 74.151584 67.364704 \r\nL 74.393527 63.469774 \r\nL 74.635469 63.772489 \r\nL 74.877412 62.35982 \r\nL 75.119354 55.417562 \r\nL 75.361297 64.398099 \r\nL 75.603239 63.288145 \r\nL 75.845182 61.492038 \r\nL 76.087124 58.202538 \r\nL 76.329067 56.971498 \r\nL 76.571009 56.709145 \r\nL 76.812952 59.009777 \r\nL 77.054894 59.413397 \r\nL 77.296837 61.370952 \r\nL 77.538779 59.817016 \r\nL 77.780722 61.12878 \r\nL 78.022664 60.442627 \r\nL 78.264607 69.54425 \r\nL 78.506549 74.448229 \r\nL 78.748491 75.719631 \r\nL 78.990434 75.941622 \r\nL 79.232376 73.378637 \r\nL 79.716261 76.52687 \r\nL 79.958204 80.038361 \r\nL 80.200146 80.946505 \r\nL 80.442089 83.186594 \r\nL 81.409859 80.785058 \r\nL 81.651801 82.157364 \r\nL 81.893744 86.193561 \r\nL 82.135686 87.364058 \r\nL 82.377629 86.395371 \r\nL 82.619571 87.142067 \r\nL 82.861514 83.731481 \r\nL 83.103456 85.406503 \r\nL 83.345399 83.348042 \r\nL 83.587341 85.608312 \r\nL 84.071226 78.403702 \r\nL 84.313168 70.129499 \r\nL 84.555111 70.068956 \r\nL 85.038996 65.185158 \r\nL 85.280938 67.183075 \r\nL 85.522881 62.622173 \r\nL 85.764823 64.700814 \r\nL 86.006766 71.501805 \r\nL 86.248708 69.54425 \r\nL 86.490651 71.60271 \r\nL 86.732593 72.611759 \r\nL 86.974536 71.098186 \r\nL 87.216478 77.75791 \r\nL 87.458421 81.269401 \r\nL 87.700363 78.847683 \r\nL 88.184248 83.933291 \r\nL 88.426191 83.448947 \r\nL 88.668133 87.666773 \r\nL 88.910076 94.306316 \r\nL 89.635903 79.291665 \r\nL 89.877845 77.657005 \r\nL 90.119788 82.318812 \r\nL 90.36173 78.141349 \r\nL 90.603673 102.156718 \r\nL 91.087558 106.132372 \r\nL 91.3295 101.874185 \r\nL 91.571443 100.259706 \r\nL 91.813385 96.162966 \r\nL 92.055328 98.08016 \r\nL 92.29727 97.071111 \r\nL 92.539213 87.444782 \r\nL 92.781155 91.420436 \r\nL 93.023098 93.317448 \r\nL 93.26504 93.277086 \r\nL 93.506983 91.178264 \r\nL 93.748925 96.062062 \r\nL 94.23281 91.72315 \r\nL 94.474752 91.743331 \r\nL 94.716695 85.911027 \r\nL 94.958637 85.527589 \r\nL 95.20058 84.558901 \r\nL 95.442522 87.263153 \r\nL 96.16835 81.128134 \r\nL 96.410292 81.24922 \r\nL 96.652235 83.388404 \r\nL 97.13612 93.862334 \r\nL 97.378062 97.151835 \r\nL 97.620005 93.801791 \r\nL 97.861947 92.368942 \r\nL 98.345832 99.634096 \r\nL 98.587775 100.320249 \r\nL 98.829717 99.634096 \r\nL 99.07166 96.425319 \r\nL 99.313602 96.84912 \r\nL 99.555545 97.535273 \r\nL 100.039429 105.103142 \r\nL 100.281372 106.253458 \r\nL 100.523314 96.062062 \r\nL 100.765257 100.279887 \r\nL 101.007199 94.346678 \r\nL 101.249142 91.279169 \r\nL 101.491084 91.682788 \r\nL 101.733027 87.222791 \r\nL 101.974969 85.224874 \r\nL 102.216912 80.926324 \r\nL 102.458854 81.471211 \r\nL 102.942739 76.446146 \r\nL 103.184682 80.563067 \r\nL 103.426624 78.322978 \r\nL 103.668567 79.614561 \r\nL 103.910509 72.127416 \r\nL 104.152452 75.638907 \r\nL 104.394394 76.829585 \r\nL 104.636337 77.071757 \r\nL 104.878279 83.327861 \r\nL 105.604106 74.044609 \r\nL 105.846049 71.360539 \r\nL 106.087991 74.710582 \r\nL 106.329934 87.182429 \r\nL 106.571876 86.213742 \r\nL 107.055761 95.961157 \r\nL 107.297704 98.08016 \r\nL 107.539646 98.988304 \r\nL 107.781589 97.05093 \r\nL 108.023531 98.423237 \r\nL 108.265474 106.051648 \r\nL 108.507416 106.172734 \r\nL 108.749359 103.347396 \r\nL 108.991301 102.479614 \r\nL 109.233244 97.272921 \r\nL 109.475186 97.494911 \r\nL 109.717129 92.32858 \r\nL 109.959071 91.238807 \r\nL 110.442956 84.276368 \r\nL 110.684898 85.285417 \r\nL 110.926841 85.76976 \r\nL 111.168783 83.126052 \r\nL 111.410726 86.092656 \r\nL 111.652668 84.760711 \r\nL 111.894611 85.204693 \r\nL 112.378496 81.087772 \r\nL 112.620438 81.289582 \r\nL 112.862381 83.126052 \r\nL 113.104323 78.726597 \r\nL 113.588208 76.304879 \r\nL 113.830151 76.224155 \r\nL 114.072093 78.827502 \r\nL 114.314036 78.080806 \r\nL 114.555978 79.170579 \r\nL 115.039863 87.263153 \r\nL 115.281806 79.997999 \r\nL 115.523748 77.979901 \r\nL 115.76569 82.217907 \r\nL 116.007633 75.780174 \r\nL 116.249575 78.262435 \r\nL 116.491518 75.073839 \r\nL 116.73346 61.370952 \r\nL 117.217345 71.885244 \r\nL 117.459288 70.634023 \r\nL 117.943173 62.460725 \r\nL 118.669 67.970133 \r\nL 118.910943 62.420363 \r\nL 119.152885 64.902624 \r\nL 119.394828 58.141995 \r\nL 119.63677 60.079369 \r\nL 119.878713 61.068237 \r\nL 120.120655 55.861544 \r\nL 120.60454 58.626338 \r\nL 120.846483 71.521986 \r\nL 121.088425 66.961084 \r\nL 121.330367 67.203256 \r\nL 121.57231 68.050857 \r\nL 121.814252 71.098186 \r\nL 122.056195 72.288864 \r\nL 122.54008 61.229685 \r\nL 122.782022 58.485071 \r\nL 123.265907 68.636106 \r\nL 123.50785 68.999364 \r\nL 123.991735 72.954836 \r\nL 124.233677 73.741895 \r\nL 124.47562 71.38072 \r\nL 124.717562 66.355655 \r\nL 124.959505 67.122532 \r\nL 125.44339 78.686235 \r\nL 125.685332 77.475376 \r\nL 125.927275 77.596462 \r\nL 126.169217 81.85465 \r\nL 126.411159 78.827502 \r\nL 126.653102 80.260352 \r\nL 126.895044 79.735646 \r\nL 127.136987 82.07664 \r\nL 127.378929 85.507408 \r\nL 127.862814 82.924242 \r\nL 128.104757 80.240171 \r\nL 128.346699 82.904061 \r\nL 128.588642 82.621527 \r\nL 128.830584 79.654922 \r\nL 129.072527 78.867864 \r\nL 129.314469 79.170579 \r\nL 130.040297 89.26107 \r\nL 130.282239 86.556819 \r\nL 130.524182 86.980619 \r\nL 130.766124 87.162248 \r\nL 131.008067 84.457996 \r\nL 131.250009 86.032113 \r\nL 131.491952 88.595098 \r\nL 131.733894 87.40442 \r\nL 131.975836 89.947224 \r\nL 132.217779 90.270119 \r\nL 132.459721 90.976454 \r\nL 132.701664 88.272202 \r\nL 132.943606 89.160165 \r\nL 133.185549 78.908226 \r\nL 133.427491 74.791306 \r\nL 133.669434 74.508772 \r\nL 133.911376 75.49764 \r\nL 134.153319 77.152481 \r\nL 134.395261 74.730763 \r\nL 134.637204 76.183793 \r\nL 134.879146 75.578364 \r\nL 135.121089 71.824701 \r\nL 135.363031 74.589496 \r\nL 135.604974 66.779455 \r\nL 135.846916 66.517103 \r\nL 136.088859 66.496922 \r\nL 136.330801 69.826784 \r\nL 136.572744 63.288145 \r\nL 136.814686 64.216471 \r\nL 137.056628 60.967332 \r\nL 137.298571 62.662535 \r\nL 137.540513 59.877559 \r\nL 137.782456 62.319458 \r\nL 138.024398 63.469774 \r\nL 138.508283 73.257551 \r\nL 138.750226 72.268683 \r\nL 138.992168 77.394652 \r\nL 139.234111 79.675103 \r\nL 139.476053 83.045328 \r\nL 139.717996 78.343159 \r\nL 139.959938 76.647956 \r\nL 140.201881 76.910309 \r\nL 140.443823 75.679269 \r\nL 140.685766 75.820536 \r\nL 140.927708 76.829585 \r\nL 141.169651 72.83375 \r\nL 141.411593 71.4009 \r\nL 141.653536 71.340358 \r\nL 141.895478 69.059906 \r\nL 142.137421 70.714747 \r\nL 142.379363 69.201173 \r\nL 142.621305 65.508053 \r\nL 142.863248 67.001446 \r\nL 143.10519 67.505971 \r\nL 143.347133 66.900541 \r\nL 143.589075 68.393934 \r\nL 143.831018 67.606876 \r\nL 144.07296 70.169861 \r\nL 144.314903 69.120449 \r\nL 144.556845 71.259634 \r\nL 144.798788 71.562348 \r\nL 145.04073 68.434296 \r\nL 145.282673 68.071038 \r\nL 145.524615 68.959002 \r\nL 145.766558 67.889409 \r\nL 146.0085 65.568596 \r\nL 146.250443 65.891492 \r\nL 146.492385 63.974299 \r\nL 146.734328 63.469774 \r\nL 146.97627 65.265882 \r\nL 147.218213 68.272848 \r\nL 147.460155 66.88036 \r\nL 147.702097 73.540085 \r\nL 147.94404 71.421081 \r\nL 148.185982 72.268683 \r\nL 148.427925 77.253386 \r\nL 148.669867 77.253386 \r\nL 148.91181 77.778091 \r\nL 149.153752 74.226238 \r\nL 149.395695 73.479542 \r\nL 149.637637 80.199809 \r\nL 149.87958 72.83375 \r\nL 150.121522 78.766959 \r\nL 150.363465 79.755827 \r\nL 150.605407 84.619444 \r\nL 150.84735 84.054377 \r\nL 151.331235 92.046046 \r\nL 151.573177 87.586049 \r\nL 151.81512 113.720422 \r\nL 152.057062 125.566659 \r\nL 152.299005 128.47272 \r\nL 152.540947 127.685662 \r\nL 152.78289 127.887472 \r\nL 153.024832 128.311272 \r\nL 153.266774 124.819962 \r\nL 153.508717 125.102496 \r\nL 153.750659 123.306388 \r\nL 153.992602 123.205484 \r\nL 154.234544 123.286207 \r\nL 154.476487 126.737156 \r\nL 154.718429 128.412177 \r\nL 154.960372 129.138693 \r\nL 155.202314 127.907653 \r\nL 155.444257 125.041953 \r\nL 155.686199 125.425392 \r\nL 155.928142 128.210367 \r\nL 156.170084 126.454622 \r\nL 156.412027 123.689827 \r\nL 156.653969 123.689827 \r\nL 156.895912 128.27091 \r\nL 157.137854 129.199235 \r\nL 157.379797 130.793533 \r\nL 157.621739 130.228466 \r\nL 157.863682 127.746205 \r\nL 158.105624 128.533263 \r\nL 158.589509 127.705843 \r\nL 158.831451 128.977245 \r\nL 159.073394 126.696794 \r\nL 159.315336 122.963312 \r\nL 159.557279 123.911818 \r\nL 159.799221 125.485935 \r\nL 160.041164 128.331453 \r\nL 160.283106 126.051002 \r\nL 160.525049 131.055886 \r\nL 160.766991 129.925751 \r\nL 161.008934 141.40873 \r\nL 161.492819 149.42058 \r\nL 161.734761 148.371169 \r\nL 161.976704 136.767104 \r\nL 162.218646 135.092082 \r\nL 162.460589 129.179054 \r\nL 162.702531 127.564576 \r\nL 162.944474 128.412177 \r\nL 163.186416 127.362766 \r\nL 163.428359 131.055886 \r\nL 163.670301 131.984211 \r\nL 163.912243 131.197153 \r\nL 164.154186 127.927834 \r\nL 164.880013 142.074703 \r\nL 165.121956 135.273711 \r\nL 165.363898 133.881223 \r\nL 165.605841 139.269546 \r\nL 165.847783 138.52285 \r\nL 166.331668 143.04339 \r\nL 166.573611 137.856877 \r\nL 166.815553 138.240316 \r\nL 167.057496 148.048273 \r\nL 167.299438 141.388549 \r\nL 167.783323 139.430994 \r\nL 168.267208 149.138047 \r\nL 168.509151 141.20692 \r\nL 168.751093 145.586194 \r\nL 168.993035 142.861761 \r\nL 169.234978 135.172806 \r\nL 169.47692 138.220135 \r\nL 169.718863 136.302941 \r\nL 170.202748 140.662034 \r\nL 170.44469 134.991178 \r\nL 170.686633 135.717693 \r\nL 170.928575 135.071901 \r\nL 171.170518 131.277877 \r\nL 171.41246 130.147742 \r\nL 171.896345 124.234714 \r\nL 172.138288 124.719057 \r\nL 172.38023 126.21245 \r\nL 172.622173 122.337701 \r\nL 173.106058 130.32937 \r\nL 173.348 128.170005 \r\nL 173.589943 131.116429 \r\nL 173.831885 130.006475 \r\nL 174.073828 133.255613 \r\nL 174.31577 129.70376 \r\nL 174.557712 135.112263 \r\nL 174.799655 130.53118 \r\nL 175.041597 136.504751 \r\nL 175.28354 138.543031 \r\nL 175.525482 136.161675 \r\nL 175.767425 143.628638 \r\nL 176.009367 137.977963 \r\nL 176.25131 138.220135 \r\nL 176.493252 132.468555 \r\nL 176.735195 132.468555 \r\nL 177.21908 122.741321 \r\nL 177.461022 126.030821 \r\nL 177.702965 133.699595 \r\nL 177.944907 130.894438 \r\nL 178.18685 131.277877 \r\nL 178.428792 126.696794 \r\nL 178.912677 133.739957 \r\nL 179.396562 127.968196 \r\nL 179.638504 127.907653 \r\nL 179.880447 128.351634 \r\nL 180.364332 126.313355 \r\nL 180.606274 127.282042 \r\nL 180.848217 127.44349 \r\nL 181.090159 123.75037 \r\nL 181.332102 125.768468 \r\nL 181.574044 130.73299 \r\nL 181.815987 119.653631 \r\nL 182.057929 123.488017 \r\nL 182.299872 121.268109 \r\nL 182.541814 111.41979 \r\nL 182.783757 112.348115 \r\nL 183.025699 110.430921 \r\nL 183.267642 103.993188 \r\nL 183.509584 103.024501 \r\nL 183.751527 109.300786 \r\nL 183.993469 104.497712 \r\nL 184.235412 103.892283 \r\nL 184.477354 105.68839 \r\nL 184.719297 111.803228 \r\nL 184.961239 109.906216 \r\nL 185.203181 106.49563 \r\nL 185.445124 109.643863 \r\nL 185.687066 110.794179 \r\nL 186.170951 103.730835 \r\nL 186.412894 105.325133 \r\nL 186.654836 105.728752 \r\nL 187.138721 104.316084 \r\nL 187.380664 105.163685 \r\nL 187.622606 107.423955 \r\nL 187.864549 111.64178 \r\nL 188.106491 107.867937 \r\nL 188.348434 108.453185 \r\nL 188.590376 112.610468 \r\nL 188.832319 111.540875 \r\nL 189.074261 112.610468 \r\nL 189.316204 112.065581 \r\nL 190.042031 121.308471 \r\nL 190.283973 120.622318 \r\nL 190.525916 114.083679 \r\nL 190.767858 114.366213 \r\nL 191.009801 117.978609 \r\nL 191.251743 119.451821 \r\nL 191.977571 115.435805 \r\nL 192.219513 117.978609 \r\nL 192.703398 114.689109 \r\nL 192.945341 118.018971 \r\nL 193.429226 121.066299 \r\nL 193.671168 126.091364 \r\nL 193.913111 126.716975 \r\nL 194.155053 123.023855 \r\nL 194.396996 121.812996 \r\nL 194.638938 122.539511 \r\nL 194.880881 121.994625 \r\nL 195.122823 125.707925 \r\nL 195.364766 124.315438 \r\nL 195.84865 113.155354 \r\nL 196.090593 114.70929 \r\nL 196.332535 114.870738 \r\nL 196.81642 106.838706 \r\nL 197.058363 105.405857 \r\nL 197.300305 125.889554 \r\nL 197.542248 131.378782 \r\nL 197.78419 128.593806 \r\nL 198.026133 132.589641 \r\nL 198.268075 133.961947 \r\nL 198.75196 129.885389 \r\nL 198.993903 130.147742 \r\nL 199.235845 128.0691 \r\nL 199.477788 134.688463 \r\nL 199.71973 136.928552 \r\nL 199.961673 136.323122 \r\nL 200.445558 141.933436 \r\nL 200.6875 138.643935 \r\nL 200.929442 141.146377 \r\nL 201.171385 139.834613 \r\nL 201.413327 142.034341 \r\nL 201.897212 139.531899 \r\nL 202.139155 140.137328 \r\nL 202.864982 154.586912 \r\nL 203.106925 165.444281 \r\nL 203.348867 170.509707 \r\nL 203.59081 158.925823 \r\nL 203.832752 155.212522 \r\nL 204.074695 156.342657 \r\nL 204.316637 156.524286 \r\nL 204.55858 167.038578 \r\nL 205.042465 158.764375 \r\nL 205.284407 164.980118 \r\nL 205.52635 157.856231 \r\nL 205.768292 162.255685 \r\nL 206.252177 157.573697 \r\nL 206.494119 161.044826 \r\nL 206.736062 157.250802 \r\nL 206.978004 155.474875 \r\nL 207.219947 156.019762 \r\nL 207.461889 163.345458 \r\nL 207.703832 159.369805 \r\nL 207.945774 163.506906 \r\nL 208.187717 165.060842 \r\nL 208.671602 161.508989 \r\nL 208.913544 167.361474 \r\nL 209.155487 167.462379 \r\nL 209.397429 162.417133 \r\nL 209.639372 165.202109 \r\nL 209.881314 163.204192 \r\nL 210.123257 154.203473 \r\nL 210.365199 154.728179 \r\nL 210.607142 152.08447 \r\nL 210.849084 147.664835 \r\nL 211.091027 147.442844 \r\nL 211.574911 153.032976 \r\nL 211.816854 152.245918 \r\nL 212.058796 152.08447 \r\nL 212.300739 151.479041 \r\nL 212.542681 153.840216 \r\nL 212.784624 171.155499 \r\nL 213.026566 170.590431 \r\nL 213.268509 164.19306 \r\nL 213.510451 163.002382 \r\nL 213.752394 165.060842 \r\nL 213.994336 176.765812 \r\nL 214.236279 170.77206 \r\nL 214.478221 171.337128 \r\nL 214.720164 172.285634 \r\nL 214.962106 171.700385 \r\nL 215.204049 168.653057 \r\nL 215.445991 169.157582 \r\nL 215.929876 175.978754 \r\nL 216.171819 181.911963 \r\nL 216.413761 181.589067 \r\nL 216.655703 182.497211 \r\nL 217.139588 189.096393 \r\nL 217.381531 185.14092 \r\nL 217.623473 184.918929 \r\nL 217.865416 180.882733 \r\nL 218.107358 179.026082 \r\nL 218.349301 175.474229 \r\nL 218.591243 175.554953 \r\nL 218.833186 175.272419 \r\nL 219.075128 176.483278 \r\nL 219.317071 175.554953 \r\nL 219.559013 173.617579 \r\nL 219.800956 169.863916 \r\nL 220.042898 173.052511 \r\nL 220.284841 174.626628 \r\nL 220.526783 171.579299 \r\nL 220.768726 173.355226 \r\nL 221.252611 179.288435 \r\nL 221.494553 178.945358 \r\nL 221.736496 183.405355 \r\nL 222.22038 176.907079 \r\nL 222.462323 173.879932 \r\nL 222.946208 182.739383 \r\nL 223.18815 181.528524 \r\nL 223.430093 176.624545 \r\nL 223.672035 175.393505 \r\nL 223.913978 175.978754 \r\nL 224.15592 177.270337 \r\nL 224.397863 172.891063 \r\nL 224.639805 173.779027 \r\nL 225.12369 180.62038 \r\nL 225.365633 180.82219 \r\nL 225.607575 182.194496 \r\nL 225.849518 186.856304 \r\nL 226.09146 189.338564 \r\nL 226.333403 186.109607 \r\nL 226.575345 186.77558 \r\nL 226.817288 190.26689 \r\nL 227.05923 186.755399 \r\nL 227.543115 196.44227 \r\nL 227.785057 209.055385 \r\nL 228.027 206.936381 \r\nL 228.510885 208.611403 \r\nL 228.752827 207.582173 \r\nL 228.99477 210.871673 \r\nL 229.236712 208.328869 \r\nL 229.478655 203.142357 \r\nL 229.720597 203.061633 \r\nL 229.96254 206.875839 \r\nL 230.204482 203.283624 \r\nL 230.446425 197.370596 \r\nL 230.688367 195.513945 \r\nL 230.93031 198.722721 \r\nL 231.656137 217.147959 \r\nL 231.89808 210.710225 \r\nL 232.140022 207.279458 \r\nL 232.381965 200.498648 \r\nL 232.623907 187.683724 \r\nL 233.107792 185.019834 \r\nL 233.349734 187.784629 \r\nL 233.591677 186.977389 \r\nL 233.833619 183.546622 \r\nL 234.075562 188.531325 \r\nL 234.317504 190.549423 \r\nL 234.801389 179.914045 \r\nL 235.043332 176.886898 \r\nL 235.285274 176.886898 \r\nL 235.527217 172.144367 \r\nL 235.769159 174.323913 \r\nL 236.011102 171.619661 \r\nL 236.253044 172.063643 \r\nL 236.494987 167.68437 \r\nL 236.736929 166.836769 \r\nL 236.978872 166.473511 \r\nL 237.462757 158.23967 \r\nL 237.704699 158.138765 \r\nL 237.946641 155.030894 \r\nL 238.188584 156.100486 \r\nL 238.430526 161.549351 \r\nL 238.672469 156.4032 \r\nL 238.914411 155.495056 \r\nL 239.156354 153.618225 \r\nL 239.398296 155.474875 \r\nL 239.640239 149.339856 \r\nL 239.882181 147.180491 \r\nL 240.124124 148.088635 \r\nL 240.366066 152.266099 \r\nL 240.608009 152.225737 \r\nL 240.849951 155.797771 \r\nL 241.091894 153.577863 \r\nL 241.333836 153.779673 \r\nL 241.575779 153.012795 \r\nL 241.817721 149.783838 \r\nL 242.059664 149.925105 \r\nL 242.543549 147.16031 \r\nL 242.785491 164.374689 \r\nL 243.027434 160.116501 \r\nL 243.269376 153.678768 \r\nL 243.511318 155.293246 \r\nL 243.995203 154.122749 \r\nL 244.237146 151.317593 \r\nL 244.479088 158.179127 \r\nL 245.204916 164.112336 \r\nL 245.446858 163.870164 \r\nL 245.688801 159.369805 \r\nL 245.930743 157.735145 \r\nL 246.172686 157.63424 \r\nL 246.414628 152.326642 \r\nL 246.656571 154.385102 \r\nL 246.898513 154.607093 \r\nL 247.140456 156.867363 \r\nL 247.382398 153.355872 \r\nL 247.624341 156.302295 \r\nL 247.866283 157.63424 \r\nL 248.108226 162.497857 \r\nL 248.350168 157.815869 \r\nL 248.59211 158.784556 \r\nL 248.834053 155.676685 \r\nL 249.075995 148.855513 \r\nL 249.317938 147.341939 \r\nL 249.55988 146.5347 \r\nL 249.801823 144.718411 \r\nL 250.043765 147.200672 \r\nL 250.285708 145.202755 \r\nL 250.52765 146.433795 \r\nL 250.769593 146.756691 \r\nL 251.253478 144.193706 \r\nL 251.49542 145.364203 \r\nL 251.979305 149.682933 \r\nL 252.221248 150.126915 \r\nL 252.46319 150.893792 \r\nL 252.705133 150.126915 \r\nL 252.947075 148.250083 \r\nL 253.189018 144.980764 \r\nL 253.43096 144.092801 \r\nL 253.672903 146.373252 \r\nL 253.914845 141.469273 \r\nL 254.156787 159.147814 \r\nL 254.39873 165.383738 \r\nL 254.882615 155.37397 \r\nL 255.124557 148.673884 \r\nL 255.3665 147.523568 \r\nL 255.608442 148.875694 \r\nL 255.850385 147.483206 \r\nL 256.092327 147.019043 \r\nL 256.33427 143.265381 \r\nL 256.576212 141.509635 \r\nL 257.30204 131.520048 \r\nL 257.543982 132.529098 \r\nL 257.785925 132.36765 \r\nL 258.027867 132.932717 \r\nL 258.26981 129.340502 \r\nL 258.511752 131.176972 \r\nL 258.753695 127.907653 \r\nL 258.995637 126.737156 \r\nL 259.479522 128.391996 \r\nL 259.721464 129.320321 \r\nL 259.963407 130.833895 \r\nL 260.205349 129.158873 \r\nL 260.447292 130.914619 \r\nL 260.689234 130.73299 \r\nL 260.931177 128.957064 \r\nL 261.173119 125.001591 \r\nL 261.415062 127.968196 \r\nL 261.657004 128.513082 \r\nL 261.898947 127.887472 \r\nL 262.140889 124.961229 \r\nL 262.382832 128.149824 \r\nL 262.624774 128.291091 \r\nL 262.866717 130.672447 \r\nL 263.108659 131.197153 \r\nL 263.350602 129.340502 \r\nL 263.592544 132.004392 \r\nL 263.834487 132.085116 \r\nL 264.076429 131.56041 \r\nL 264.318372 134.002309 \r\nL 264.802256 135.475521 \r\nL 265.044199 132.650184 \r\nL 265.286141 133.295975 \r\nL 265.528084 134.345386 \r\nL 265.770026 133.013441 \r\nL 266.011969 132.99326 \r\nL 266.253911 131.378782 \r\nL 266.495854 128.775435 \r\nL 266.979739 140.78312 \r\nL 267.221681 135.536064 \r\nL 267.705566 144.092801 \r\nL 267.947509 140.843663 \r\nL 268.189451 144.516601 \r\nL 268.431394 142.43796 \r\nL 268.673336 143.285562 \r\nL 268.915279 141.106015 \r\nL 269.157221 139.935518 \r\nL 269.641106 144.234068 \r\nL 270.124991 135.536064 \r\nL 270.366933 135.899322 \r\nL 270.608876 134.405929 \r\nL 271.092761 139.229184 \r\nL 271.334703 137.977963 \r\nL 271.576646 138.381583 \r\nL 271.818588 140.823482 \r\nL 272.060531 138.099049 \r\nL 272.302473 142.599408 \r\nL 272.786358 144.758773 \r\nL 273.028301 143.285562 \r\nL 273.270243 142.63977 \r\nL 273.512186 150.813068 \r\nL 273.754128 149.723295 \r\nL 273.996071 149.198589 \r\nL 274.238013 153.012795 \r\nL 274.479956 151.115783 \r\nL 274.721898 150.490172 \r\nL 274.963841 148.613341 \r\nL 275.205783 145.50547 \r\nL 275.447725 146.998862 \r\nL 275.689668 144.819316 \r\nL 276.173553 148.330807 \r\nL 276.415495 147.483206 \r\nL 276.657438 147.36212 \r\nL 276.89938 140.722577 \r\nL 277.383265 142.559046 \r\nL 277.625208 131.641134 \r\nL 277.86715 129.522131 \r\nL 278.109093 135.697512 \r\nL 278.83492 132.488736 \r\nL 279.076863 131.298058 \r\nL 279.318805 126.494984 \r\nL 279.560748 126.696794 \r\nL 279.80269 128.089281 \r\nL 280.286575 122.963312 \r\nL 280.77046 127.604938 \r\nL 281.012402 132.448374 \r\nL 281.254345 132.044754 \r\nL 281.496287 132.408012 \r\nL 281.73823 131.378782 \r\nL 281.980172 122.418425 \r\nL 282.222115 121.268109 \r\nL 282.464057 118.927115 \r\nL 282.706 120.985575 \r\nL 282.947942 115.355081 \r\nL 283.189885 114.9111 \r\nL 283.431827 115.899968 \r\nL 283.67377 118.503315 \r\nL 283.915712 118.604219 \r\nL 284.157655 116.747569 \r\nL 284.883482 118.543676 \r\nL 285.125425 117.675894 \r\nL 285.367367 119.593088 \r\nL 285.60931 118.765667 \r\nL 285.851252 119.996707 \r\nL 286.093194 117.574989 \r\nL 286.335137 113.397526 \r\nL 286.577079 114.527661 \r\nL 286.819022 112.852639 \r\nL 287.302907 120.945213 \r\nL 287.544849 116.444854 \r\nL 287.786792 116.041235 \r\nL 288.028734 117.272275 \r\nL 288.270677 116.162321 \r\nL 288.512619 118.362048 \r\nL 288.754562 118.341867 \r\nL 288.996504 110.794179 \r\nL 289.238447 109.825492 \r\nL 289.480389 99.997353 \r\nL 289.722332 95.174098 \r\nL 289.964274 94.427402 \r\nL 290.690102 102.782329 \r\nL 290.932044 103.246491 \r\nL 291.173986 102.661243 \r\nL 291.415929 100.158801 \r\nL 291.657871 100.078077 \r\nL 291.899814 94.831022 \r\nL 292.141756 99.452467 \r\nL 293.351469 88.332745 \r\nL 293.593411 88.83727 \r\nL 294.077296 91.198445 \r\nL 294.561181 88.393288 \r\nL 294.803124 88.998718 \r\nL 295.045066 92.934009 \r\nL 295.287009 92.086408 \r\nL 295.528951 87.787859 \r\nL 295.770894 90.653558 \r\nL 296.012836 91.622245 \r\nL 296.254779 90.774644 \r\nL 296.496721 90.956273 \r\nL 296.738663 92.833104 \r\nL 296.980606 97.414187 \r\nL 297.222548 96.102424 \r\nL 297.706433 100.360611 \r\nL 297.948376 100.178982 \r\nL 298.190318 97.293102 \r\nL 298.432261 100.501878 \r\nL 298.674203 100.400973 \r\nL 298.916146 104.073912 \r\nL 299.158088 102.257623 \r\nL 299.400031 102.176899 \r\nL 299.641973 104.174817 \r\nL 299.883916 104.295903 \r\nL 300.125858 102.80251 \r\nL 300.367801 103.952826 \r\nL 300.609743 104.114274 \r\nL 301.093628 102.822691 \r\nL 301.335571 102.782329 \r\nL 301.577513 106.09201 \r\nL 302.061398 107.585403 \r\nL 302.545283 110.733636 \r\nL 302.787225 110.572188 \r\nL 303.029168 112.852639 \r\nL 303.27111 109.684225 \r\nL 303.513053 111.803228 \r\nL 303.754995 128.67453 \r\nL 303.996938 127.44349 \r\nL 304.23888 131.318239 \r\nL 304.480823 130.571542 \r\nL 304.964708 131.96403 \r\nL 305.20665 131.439325 \r\nL 305.448593 131.499868 \r\nL 305.690535 134.42611 \r\nL 305.932478 133.901404 \r\nL 306.17442 134.849911 \r\nL 306.416363 134.002309 \r\nL 306.658305 142.074703 \r\nL 306.900248 146.151261 \r\nL 307.626075 150.954335 \r\nL 307.868017 151.519403 \r\nL 308.10996 149.21877 \r\nL 308.351902 144.839497 \r\nL 308.593845 150.389267 \r\nL 308.835787 150.691982 \r\nL 309.319672 146.938319 \r\nL 309.561615 148.169359 \r\nL 310.0455 145.808184 \r\nL 310.529385 148.774789 \r\nL 310.771327 146.9585 \r\nL 311.01327 146.877776 \r\nL 311.255212 148.128997 \r\nL 311.497155 147.402482 \r\nL 311.739097 147.483206 \r\nL 311.98104 150.288363 \r\nL 312.222982 148.028092 \r\nL 312.706867 141.81235 \r\nL 312.948809 143.689181 \r\nL 313.190752 144.577144 \r\nL 313.432694 143.749724 \r\nL 313.674637 141.40873 \r\nL 313.916579 142.498503 \r\nL 314.158522 142.276512 \r\nL 314.400464 144.617506 \r\nL 314.642407 143.386466 \r\nL 314.884349 143.971715 \r\nL 315.126292 141.711445 \r\nL 315.368234 142.680132 \r\nL 315.610177 141.529816 \r\nL 315.852119 143.931353 \r\nL 316.094062 144.536782 \r\nL 316.336004 141.00511 \r\nL 316.819889 147.503387 \r\nL 317.303774 145.364203 \r\nL 317.545717 145.828365 \r\nL 317.787659 144.799135 \r\nL 318.029601 144.940402 \r\nL 318.271544 143.709362 \r\nL 318.513486 146.191623 \r\nL 318.755429 144.193706 \r\nL 318.997371 157.250802 \r\nL 319.239314 156.988449 \r\nL 319.481256 158.158946 \r\nL 319.723199 160.358673 \r\nL 319.965141 159.955053 \r\nL 320.207084 161.630075 \r\nL 320.449026 162.215323 \r\nL 320.690969 163.78944 \r\nL 321.174854 162.033695 \r\nL 321.416796 163.466544 \r\nL 321.658739 162.477676 \r\nL 321.900681 162.033695 \r\nL 322.384566 168.188894 \r\nL 322.626509 168.875048 \r\nL 322.868451 168.733781 \r\nL 323.110393 168.733781 \r\nL 323.352336 167.765094 \r\nL 323.594278 168.269618 \r\nL 323.836221 167.401836 \r\nL 324.320106 173.052511 \r\nL 324.803991 170.408802 \r\nL 325.287876 166.513873 \r\nL 325.529818 164.899394 \r\nL 325.771761 167.381655 \r\nL 326.013703 166.110253 \r\nL 326.255646 167.28075 \r\nL 326.497588 166.332244 \r\nL 326.739531 164.213241 \r\nL 326.981473 166.312063 \r\nL 327.223416 164.737946 \r\nL 327.465358 166.594597 \r\nL 327.707301 167.502741 \r\nL 327.949243 162.639124 \r\nL 328.191186 160.822836 \r\nL 328.433128 160.358673 \r\nL 328.67507 161.266817 \r\nL 328.917013 162.719848 \r\nL 329.400898 163.58763 \r\nL 329.64284 160.580664 \r\nL 329.884783 161.831885 \r\nL 330.126725 162.094238 \r\nL 330.61061 159.208357 \r\nL 330.852553 161.024645 \r\nL 331.094495 161.024645 \r\nL 331.336438 162.195142 \r\nL 331.57838 159.006547 \r\nL 331.820323 158.764375 \r\nL 332.062265 159.369805 \r\nL 332.304208 158.885461 \r\nL 332.54615 159.369805 \r\nL 333.030035 155.293246 \r\nL 333.51392 158.259851 \r\nL 333.755862 158.118584 \r\nL 334.239747 159.248719 \r\nL 334.48169 133.033622 \r\nL 334.965575 127.907653 \r\nL 335.691402 145.212845 \r\nL 336.175287 144.839497 \r\nL 336.41723 143.46719 \r\nL 336.659172 144.07262 \r\nL 336.901115 144.133163 \r\nL 337.143057 145.50547 \r\nL 337.385 149.077504 \r\nL 337.626942 150.570896 \r\nL 337.868885 149.541666 \r\nL 338.110827 149.097685 \r\nL 338.594712 153.961301 \r\nL 338.836655 155.495056 \r\nL 339.078597 154.506188 \r\nL 339.320539 158.118584 \r\nL 339.562482 154.042025 \r\nL 339.804424 154.34474 \r\nL 340.288309 148.330807 \r\nL 340.530252 148.694065 \r\nL 340.772194 148.552798 \r\nL 341.014137 148.270264 \r\nL 341.256079 147.281396 \r\nL 341.498022 145.10185 \r\nL 341.739964 144.254249 \r\nL 341.981907 142.659951 \r\nL 342.223849 139.229184 \r\nL 342.949677 145.061488 \r\nL 343.191619 142.559046 \r\nL 343.433562 141.348187 \r\nL 343.675504 138.664116 \r\nL 343.917447 144.375335 \r\nL 344.159389 144.193706 \r\nL 344.401331 147.220853 \r\nL 344.643274 145.545832 \r\nL 344.885216 145.747641 \r\nL 345.127159 146.312709 \r\nL 345.369101 149.238951 \r\nL 345.611044 147.220853 \r\nL 346.094929 145.949451 \r\nL 346.336871 144.112982 \r\nL 346.578814 145.364203 \r\nL 346.820756 143.689181 \r\nL 347.304641 128.654349 \r\nL 348.030469 124.3558 \r\nL 348.272411 123.649465 \r\nL 348.514354 123.609103 \r\nL 348.756296 125.748287 \r\nL 348.998239 124.315438 \r\nL 349.240181 114.628566 \r\nL 349.482124 113.68006 \r\nL 349.724066 127.302223 \r\nL 349.966008 126.83806 \r\nL 350.207951 119.472002 \r\nL 350.449893 121.247928 \r\nL 350.691836 121.046118 \r\nL 350.933778 117.272275 \r\nL 351.175721 118.362048 \r\nL 351.417663 124.7796 \r\nL 351.659606 124.618152 \r\nL 351.901548 127.24168 \r\nL 352.143491 134.042671 \r\nL 352.385433 147.16031 \r\nL 352.627376 141.489454 \r\nL 352.869318 144.49642 \r\nL 352.869318 144.49642 \r\n\" style=\"fill:none;stroke:#1f77b4;stroke-linecap:square;stroke-width:1.5;\"/>\r\n   </g>\r\n   <g id=\"patch_3\">\r\n    <path d=\"M 33.2875 227.031595 \r\nL 33.2875 9.591595 \r\n\" style=\"fill:none;stroke:#000000;stroke-linecap:square;stroke-linejoin:miter;stroke-width:0.8;\"/>\r\n   </g>\r\n   <g id=\"patch_4\">\r\n    <path d=\"M 368.0875 227.031595 \r\nL 368.0875 9.591595 \r\n\" style=\"fill:none;stroke:#000000;stroke-linecap:square;stroke-linejoin:miter;stroke-width:0.8;\"/>\r\n   </g>\r\n   <g id=\"patch_5\">\r\n    <path d=\"M 33.2875 227.031595 \r\nL 368.0875 227.031595 \r\n\" style=\"fill:none;stroke:#000000;stroke-linecap:square;stroke-linejoin:miter;stroke-width:0.8;\"/>\r\n   </g>\r\n   <g id=\"patch_6\">\r\n    <path d=\"M 33.2875 9.591595 \r\nL 368.0875 9.591595 \r\n\" style=\"fill:none;stroke:#000000;stroke-linecap:square;stroke-linejoin:miter;stroke-width:0.8;\"/>\r\n   </g>\r\n  </g>\r\n </g>\r\n <defs>\r\n  <clipPath id=\"p0db0b7d2f9\">\r\n   <rect height=\"217.44\" width=\"334.8\" x=\"33.2875\" y=\"9.591595\"/>\r\n  </clipPath>\r\n </defs>\r\n</svg>\r\n",
      "image/png": "[encoded data removed]"
     },
     "metadata": {
      "needs_background": "light"
     }
    }
   ],
   "source": [
    "ibm['close'].plot()"
   ]
  },
  {
   "cell_type": "code",
   "execution_count": 14,
   "metadata": {},
   "outputs": [
    {
     "output_type": "execute_result",
     "data": {
      "text/plain": [
       "('2013-02-08', '2018-02-07')"
      ]
     },
     "metadata": {},
     "execution_count": 14
    }
   ],
   "source": [
    "df['date'].min(), df['date'].max()"
   ]
  },
  {
   "cell_type": "code",
   "execution_count": 15,
   "metadata": {},
   "outputs": [
    {
     "output_type": "execute_result",
     "data": {
      "text/plain": [
       "DatetimeIndex(['2013-02-08', '2013-02-09', '2013-02-10', '2013-02-11',\n",
       "               '2013-02-12', '2013-02-13', '2013-02-14', '2013-02-15',\n",
       "               '2013-02-16', '2013-02-17',\n",
       "               ...\n",
       "               '2018-01-29', '2018-01-30', '2018-01-31', '2018-02-01',\n",
       "               '2018-02-02', '2018-02-03', '2018-02-04', '2018-02-05',\n",
       "               '2018-02-06', '2018-02-07'],\n",
       "              dtype='datetime64[ns]', length=1826, freq='D')"
      ]
     },
     "metadata": {},
     "execution_count": 15
    }
   ],
   "source": [
    "dates = pd.date_range(df['date'].min(), df['date'].max())\n",
    "dates"
   ]
  },
  {
   "cell_type": "code",
   "execution_count": 17,
   "metadata": {},
   "outputs": [],
   "source": [
    "close_prices = pd.DataFrame(index=dates)"
   ]
  },
  {
   "cell_type": "code",
   "execution_count": 18,
   "metadata": {},
   "outputs": [
    {
     "output_type": "execute_result",
     "data": {
      "text/plain": [
       "Empty DataFrame\n",
       "Columns: []\n",
       "Index: [2013-02-08 00:00:00, 2013-02-09 00:00:00, 2013-02-10 00:00:00, 2013-02-11 00:00:00, 2013-02-12 00:00:00]"
      ],
      "text/html": "<div>\n<style scoped>\n    .dataframe tbody tr th:only-of-type {\n        vertical-align: middle;\n    }\n\n    .dataframe tbody tr th {\n        vertical-align: top;\n    }\n\n    .dataframe thead th {\n        text-align: right;\n    }\n</style>\n<table border=\"1\" class=\"dataframe\">\n  <thead>\n    <tr style=\"text-align: right;\">\n      <th></th>\n    </tr>\n  </thead>\n  <tbody>\n    <tr>\n      <th>2013-02-08</th>\n    </tr>\n    <tr>\n      <th>2013-02-09</th>\n    </tr>\n    <tr>\n      <th>2013-02-10</th>\n    </tr>\n    <tr>\n      <th>2013-02-11</th>\n    </tr>\n    <tr>\n      <th>2013-02-12</th>\n    </tr>\n  </tbody>\n</table>\n</div>"
     },
     "metadata": {},
     "execution_count": 18
    }
   ],
   "source": [
    "close_prices.head()"
   ]
  },
  {
   "cell_type": "code",
   "execution_count": 19,
   "metadata": {},
   "outputs": [],
   "source": [
    "symbols = df['Name'].unique()"
   ]
  },
  {
   "cell_type": "code",
   "execution_count": 24,
   "metadata": {},
   "outputs": [],
   "source": [
    "df2 = pd.DataFrame(data=ibm['close'].to_numpy(), index=ibm['date'], columns=['IBM'])"
   ]
  },
  {
   "cell_type": "code",
   "execution_count": 25,
   "metadata": {},
   "outputs": [
    {
     "output_type": "execute_result",
     "data": {
      "text/plain": [
       "               IBM\n",
       "date              \n",
       "2013-02-08  201.68\n",
       "2013-02-11  200.16\n",
       "2013-02-12  200.04\n",
       "2013-02-13  200.09\n",
       "2013-02-14  199.65"
      ],
      "text/html": "<div>\n<style scoped>\n    .dataframe tbody tr th:only-of-type {\n        vertical-align: middle;\n    }\n\n    .dataframe tbody tr th {\n        vertical-align: top;\n    }\n\n    .dataframe thead th {\n        text-align: right;\n    }\n</style>\n<table border=\"1\" class=\"dataframe\">\n  <thead>\n    <tr style=\"text-align: right;\">\n      <th></th>\n      <th>IBM</th>\n    </tr>\n    <tr>\n      <th>date</th>\n      <th></th>\n    </tr>\n  </thead>\n  <tbody>\n    <tr>\n      <th>2013-02-08</th>\n      <td>201.68</td>\n    </tr>\n    <tr>\n      <th>2013-02-11</th>\n      <td>200.16</td>\n    </tr>\n    <tr>\n      <th>2013-02-12</th>\n      <td>200.04</td>\n    </tr>\n    <tr>\n      <th>2013-02-13</th>\n      <td>200.09</td>\n    </tr>\n    <tr>\n      <th>2013-02-14</th>\n      <td>199.65</td>\n    </tr>\n  </tbody>\n</table>\n</div>"
     },
     "metadata": {},
     "execution_count": 25
    }
   ],
   "source": [
    "df2.head()"
   ]
  },
  {
   "cell_type": "code",
   "execution_count": 26,
   "metadata": {},
   "outputs": [],
   "source": [
    "for symbol in symbols:\n",
    "    df_sym = df[df['Name'] == symbol]\n",
    "    df_tmp = pd.DataFrame(data=df_sym['close'].to_numpy(), index=df_sym['date'], columns=[symbol])\n",
    "    close_prices = close_prices.join(df_tmp)"
   ]
  },
  {
   "cell_type": "code",
   "execution_count": 28,
   "metadata": {},
   "outputs": [
    {
     "output_type": "execute_result",
     "data": {
      "text/plain": [
       "              AAL     AAPL    AAP   ABBV    ABC    ABT    ACN   ADBE    ADI  \\\n",
       "2013-02-08  14.75  67.8542  78.90  36.25  46.89  34.41  73.31  39.12  45.70   \n",
       "2013-02-09    NaN      NaN    NaN    NaN    NaN    NaN    NaN    NaN    NaN   \n",
       "2013-02-10    NaN      NaN    NaN    NaN    NaN    NaN    NaN    NaN    NaN   \n",
       "2013-02-11  14.46  68.5614  78.39  35.85  46.76  34.26  73.07  38.64  46.08   \n",
       "2013-02-12  14.27  66.8428  78.60  35.42  46.96  34.30  73.37  38.89  46.27   \n",
       "\n",
       "              ADM  ...   XLNX     XL    XOM   XRAY    XRX    XYL    YUM  \\\n",
       "2013-02-08  30.22  ...  37.51  28.24  88.61  42.87  31.84  27.09  65.30   \n",
       "2013-02-09    NaN  ...    NaN    NaN    NaN    NaN    NaN    NaN    NaN   \n",
       "2013-02-10    NaN  ...    NaN    NaN    NaN    NaN    NaN    NaN    NaN   \n",
       "2013-02-11  30.28  ...  37.46  28.31  88.28  42.84  31.96  27.46  64.55   \n",
       "2013-02-12  30.81  ...  37.58  28.41  88.46  42.87  31.84  27.95  64.75   \n",
       "\n",
       "              ZBH   ZION    ZTS  \n",
       "2013-02-08  75.85  24.14  33.05  \n",
       "2013-02-09    NaN    NaN    NaN  \n",
       "2013-02-10    NaN    NaN    NaN  \n",
       "2013-02-11  75.65  24.21  33.26  \n",
       "2013-02-12  75.44  24.49  33.74  \n",
       "\n",
       "[5 rows x 505 columns]"
      ],
      "text/html": "<div>\n<style scoped>\n    .dataframe tbody tr th:only-of-type {\n        vertical-align: middle;\n    }\n\n    .dataframe tbody tr th {\n        vertical-align: top;\n    }\n\n    .dataframe thead th {\n        text-align: right;\n    }\n</style>\n<table border=\"1\" class=\"dataframe\">\n  <thead>\n    <tr style=\"text-align: right;\">\n      <th></th>\n      <th>AAL</th>\n      <th>AAPL</th>\n      <th>AAP</th>\n      <th>ABBV</th>\n      <th>ABC</th>\n      <th>ABT</th>\n      <th>ACN</th>\n      <th>ADBE</th>\n      <th>ADI</th>\n      <th>ADM</th>\n      <th>...</th>\n      <th>XLNX</th>\n      <th>XL</th>\n      <th>XOM</th>\n      <th>XRAY</th>\n      <th>XRX</th>\n      <th>XYL</th>\n      <th>YUM</th>\n      <th>ZBH</th>\n      <th>ZION</th>\n      <th>ZTS</th>\n    </tr>\n  </thead>\n  <tbody>\n    <tr>\n      <th>2013-02-08</th>\n      <td>14.75</td>\n      <td>67.8542</td>\n      <td>78.90</td>\n      <td>36.25</td>\n      <td>46.89</td>\n      <td>34.41</td>\n      <td>73.31</td>\n      <td>39.12</td>\n      <td>45.70</td>\n      <td>30.22</td>\n      <td>...</td>\n      <td>37.51</td>\n      <td>28.24</td>\n      <td>88.61</td>\n      <td>42.87</td>\n      <td>31.84</td>\n      <td>27.09</td>\n      <td>65.30</td>\n      <td>75.85</td>\n      <td>24.14</td>\n      <td>33.05</td>\n    </tr>\n    <tr>\n      <th>2013-02-09</th>\n      <td>NaN</td>\n      <td>NaN</td>\n      <td>NaN</td>\n      <td>NaN</td>\n      <td>NaN</td>\n      <td>NaN</td>\n      <td>NaN</td>\n      <td>NaN</td>\n      <td>NaN</td>\n      <td>NaN</td>\n      <td>...</td>\n      <td>NaN</td>\n      <td>NaN</td>\n      <td>NaN</td>\n      <td>NaN</td>\n      <td>NaN</td>\n      <td>NaN</td>\n      <td>NaN</td>\n      <td>NaN</td>\n      <td>NaN</td>\n      <td>NaN</td>\n    </tr>\n    <tr>\n      <th>2013-02-10</th>\n      <td>NaN</td>\n      <td>NaN</td>\n      <td>NaN</td>\n      <td>NaN</td>\n      <td>NaN</td>\n      <td>NaN</td>\n      <td>NaN</td>\n      <td>NaN</td>\n      <td>NaN</td>\n      <td>NaN</td>\n      <td>...</td>\n      <td>NaN</td>\n      <td>NaN</td>\n      <td>NaN</td>\n      <td>NaN</td>\n      <td>NaN</td>\n      <td>NaN</td>\n      <td>NaN</td>\n      <td>NaN</td>\n      <td>NaN</td>\n      <td>NaN</td>\n    </tr>\n    <tr>\n      <th>2013-02-11</th>\n      <td>14.46</td>\n      <td>68.5614</td>\n      <td>78.39</td>\n      <td>35.85</td>\n      <td>46.76</td>\n      <td>34.26</td>\n      <td>73.07</td>\n      <td>38.64</td>\n      <td>46.08</td>\n      <td>30.28</td>\n      <td>...</td>\n      <td>37.46</td>\n      <td>28.31</td>\n      <td>88.28</td>\n      <td>42.84</td>\n      <td>31.96</td>\n      <td>27.46</td>\n      <td>64.55</td>\n      <td>75.65</td>\n      <td>24.21</td>\n      <td>33.26</td>\n    </tr>\n    <tr>\n      <th>2013-02-12</th>\n      <td>14.27</td>\n      <td>66.8428</td>\n      <td>78.60</td>\n      <td>35.42</td>\n      <td>46.96</td>\n      <td>34.30</td>\n      <td>73.37</td>\n      <td>38.89</td>\n      <td>46.27</td>\n      <td>30.81</td>\n      <td>...</td>\n      <td>37.58</td>\n      <td>28.41</td>\n      <td>88.46</td>\n      <td>42.87</td>\n      <td>31.84</td>\n      <td>27.95</td>\n      <td>64.75</td>\n      <td>75.44</td>\n      <td>24.49</td>\n      <td>33.74</td>\n    </tr>\n  </tbody>\n</table>\n<p>5 rows × 505 columns</p>\n</div>"
     },
     "metadata": {},
     "execution_count": 28
    }
   ],
   "source": [
    "close_prices.head()"
   ]
  },
  {
   "cell_type": "code",
   "execution_count": 30,
   "metadata": {},
   "outputs": [
    {
     "output_type": "stream",
     "name": "stdout",
     "text": [
      "<class 'pandas.core.frame.DataFrame'>\nDatetimeIndex: 1826 entries, 2013-02-08 to 2018-02-07\nFreq: D\nColumns: 505 entries, AAL to ZTS\ndtypes: float64(505)\nmemory usage: 7.1 MB\n"
     ]
    }
   ],
   "source": [
    "close_prices.info()"
   ]
  },
  {
   "cell_type": "code",
   "execution_count": 33,
   "metadata": {},
   "outputs": [
    {
     "output_type": "error",
     "ename": "FileNotFoundError",
     "evalue": "[Errno 2] No such file or directory: '../data/raw/sp500_close.csv'",
     "traceback": [
      "\u001b[1;31m---------------------------------------------------------------------------\u001b[0m",
      "\u001b[1;31mFileNotFoundError\u001b[0m                         Traceback (most recent call last)",
      "\u001b[1;32m<ipython-input-33-84da453fcaeb>\u001b[0m in \u001b[0;36m<module>\u001b[1;34m\u001b[0m\n\u001b[1;32m----> 1\u001b[1;33m \u001b[0mclose_prices\u001b[0m\u001b[1;33m.\u001b[0m\u001b[0mto_csv\u001b[0m\u001b[1;33m(\u001b[0m\u001b[1;34m'../data/raw/sp500_close.csv'\u001b[0m\u001b[1;33m)\u001b[0m\u001b[1;33m\u001b[0m\u001b[1;33m\u001b[0m\u001b[0m\n\u001b[0m",
      "\u001b[1;32m~\\anaconda3\\lib\\site-packages\\pandas\\core\\generic.py\u001b[0m in \u001b[0;36mto_csv\u001b[1;34m(self, path_or_buf, sep, na_rep, float_format, columns, header, index, index_label, mode, encoding, compression, quoting, quotechar, line_terminator, chunksize, date_format, doublequote, escapechar, decimal, errors)\u001b[0m\n\u001b[0;32m   3168\u001b[0m             \u001b[0mdecimal\u001b[0m\u001b[1;33m=\u001b[0m\u001b[0mdecimal\u001b[0m\u001b[1;33m,\u001b[0m\u001b[1;33m\u001b[0m\u001b[1;33m\u001b[0m\u001b[0m\n\u001b[0;32m   3169\u001b[0m         )\n\u001b[1;32m-> 3170\u001b[1;33m         \u001b[0mformatter\u001b[0m\u001b[1;33m.\u001b[0m\u001b[0msave\u001b[0m\u001b[1;33m(\u001b[0m\u001b[1;33m)\u001b[0m\u001b[1;33m\u001b[0m\u001b[1;33m\u001b[0m\u001b[0m\n\u001b[0m\u001b[0;32m   3171\u001b[0m \u001b[1;33m\u001b[0m\u001b[0m\n\u001b[0;32m   3172\u001b[0m         \u001b[1;32mif\u001b[0m \u001b[0mpath_or_buf\u001b[0m \u001b[1;32mis\u001b[0m \u001b[1;32mNone\u001b[0m\u001b[1;33m:\u001b[0m\u001b[1;33m\u001b[0m\u001b[1;33m\u001b[0m\u001b[0m\n",
      "\u001b[1;32m~\\anaconda3\\lib\\site-packages\\pandas\\io\\formats\\csvs.py\u001b[0m in \u001b[0;36msave\u001b[1;34m(self)\u001b[0m\n\u001b[0;32m    183\u001b[0m             \u001b[0mclose\u001b[0m \u001b[1;33m=\u001b[0m \u001b[1;32mFalse\u001b[0m\u001b[1;33m\u001b[0m\u001b[1;33m\u001b[0m\u001b[0m\n\u001b[0;32m    184\u001b[0m         \u001b[1;32melse\u001b[0m\u001b[1;33m:\u001b[0m\u001b[1;33m\u001b[0m\u001b[1;33m\u001b[0m\u001b[0m\n\u001b[1;32m--> 185\u001b[1;33m             f, handles = get_handle(\n\u001b[0m\u001b[0;32m    186\u001b[0m                 \u001b[0mself\u001b[0m\u001b[1;33m.\u001b[0m\u001b[0mpath_or_buf\u001b[0m\u001b[1;33m,\u001b[0m\u001b[1;33m\u001b[0m\u001b[1;33m\u001b[0m\u001b[0m\n\u001b[0;32m    187\u001b[0m                 \u001b[0mself\u001b[0m\u001b[1;33m.\u001b[0m\u001b[0mmode\u001b[0m\u001b[1;33m,\u001b[0m\u001b[1;33m\u001b[0m\u001b[1;33m\u001b[0m\u001b[0m\n",
      "\u001b[1;32m~\\anaconda3\\lib\\site-packages\\pandas\\io\\common.py\u001b[0m in \u001b[0;36mget_handle\u001b[1;34m(path_or_buf, mode, encoding, compression, memory_map, is_text, errors)\u001b[0m\n\u001b[0;32m    491\u001b[0m         \u001b[1;32mif\u001b[0m \u001b[0mencoding\u001b[0m\u001b[1;33m:\u001b[0m\u001b[1;33m\u001b[0m\u001b[1;33m\u001b[0m\u001b[0m\n\u001b[0;32m    492\u001b[0m             \u001b[1;31m# Encoding\u001b[0m\u001b[1;33m\u001b[0m\u001b[1;33m\u001b[0m\u001b[1;33m\u001b[0m\u001b[0m\n\u001b[1;32m--> 493\u001b[1;33m             \u001b[0mf\u001b[0m \u001b[1;33m=\u001b[0m \u001b[0mopen\u001b[0m\u001b[1;33m(\u001b[0m\u001b[0mpath_or_buf\u001b[0m\u001b[1;33m,\u001b[0m \u001b[0mmode\u001b[0m\u001b[1;33m,\u001b[0m \u001b[0mencoding\u001b[0m\u001b[1;33m=\u001b[0m\u001b[0mencoding\u001b[0m\u001b[1;33m,\u001b[0m \u001b[0merrors\u001b[0m\u001b[1;33m=\u001b[0m\u001b[0merrors\u001b[0m\u001b[1;33m,\u001b[0m \u001b[0mnewline\u001b[0m\u001b[1;33m=\u001b[0m\u001b[1;34m\"\"\u001b[0m\u001b[1;33m)\u001b[0m\u001b[1;33m\u001b[0m\u001b[1;33m\u001b[0m\u001b[0m\n\u001b[0m\u001b[0;32m    494\u001b[0m         \u001b[1;32melif\u001b[0m \u001b[0mis_text\u001b[0m\u001b[1;33m:\u001b[0m\u001b[1;33m\u001b[0m\u001b[1;33m\u001b[0m\u001b[0m\n\u001b[0;32m    495\u001b[0m             \u001b[1;31m# No explicit encoding\u001b[0m\u001b[1;33m\u001b[0m\u001b[1;33m\u001b[0m\u001b[1;33m\u001b[0m\u001b[0m\n",
      "\u001b[1;31mFileNotFoundError\u001b[0m: [Errno 2] No such file or directory: '../data/raw/sp500_close.csv'"
     ]
    }
   ],
   "source": [
    "close_prices.to_csv('../data/raw/sp500_close.csv')"
   ]
  },
  {
   "cell_type": "code",
   "execution_count": 32,
   "metadata": {},
   "outputs": [
    {
     "output_type": "stream",
     "name": "stderr",
     "text": [
      "'head' nao � reconhecido como um comando interno\nou externo, um programa oper�vel ou um arquivo em lotes.\n"
     ]
    }
   ],
   "source": [
    "!head sp500_close.csv"
   ]
  },
  {
   "cell_type": "code",
   "execution_count": null,
   "metadata": {},
   "outputs": [],
   "source": []
  }
 ]
}