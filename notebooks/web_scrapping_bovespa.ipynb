{
 "metadata": {
  "language_info": {
   "codemirror_mode": {
    "name": "ipython",
    "version": 3
   },
   "file_extension": ".py",
   "mimetype": "text/x-python",
   "name": "python",
   "nbconvert_exporter": "python",
   "pygments_lexer": "ipython3",
   "version": "3.8.5-final"
  },
  "orig_nbformat": 2,
  "kernelspec": {
   "name": "python3",
   "display_name": "Python 3",
   "language": "python"
  }
 },
 "nbformat": 4,
 "nbformat_minor": 2,
 "cells": [
  {
   "cell_type": "code",
   "execution_count": 25,
   "metadata": {},
   "outputs": [],
   "source": [
    "# import pandas as pd\n",
    "# import pandas_datareader.data as web\n",
    "# import datetime as dt\n",
    "# import matplotlib.pyplot as fig\n",
    "# import yfinance as yf\n",
    "# import os"
   ]
  },
  {
   "cell_type": "code",
   "execution_count": 23,
   "metadata": {},
   "outputs": [],
   "source": [
    "# url = 'http://bvmf.bmfbovespa.com.br/indices/ResumoCarteiraTeorica.aspx?Indice=IBOV&idioma=pt-br'\n",
    "# df = pd.read_html(url)[0][:-1]"
   ]
  },
  {
   "cell_type": "code",
   "execution_count": 34,
   "metadata": {},
   "outputs": [],
   "source": [
    "import pandas as pd\n",
    "import pandas_datareader.data as web\n",
    "import datetime as dt\n",
    "import matplotlib.pyplot as fig\n",
    "\n",
    "url = 'http://bvmf.bmfbovespa.com.br/indices/ResumoCarteiraTeorica.aspx?Indice=IBOV&idioma=pt-br'\n",
    "df_br_stocks = pd.read_html(url, encoding='utf-8', decimal=',', thousands='.')[0][:-1]\n",
    "\n",
    "df_br_stocks['Symbol_reduced'] = df_br_stocks['Código']+str('.SA')\n",
    "\n",
    "# df_br_stocks = df_br_stocks.loc[~df_br_stocks['Symbol'].str[0].str.isnumeric(), :]\n",
    "\n",
    "# br_stock_symbols = df_br_stocks['Symbol'].unique().tolist()\n",
    "\n",
    "# df_br_stocks = df_br_stocks[['Symbol', 'Symbol_reduced', 'Company Name', 'Last Price', 'Change', '% Change', 'Volume']]\n",
    "\n",
    "df_br_stocks\n",
    "\n",
    "symbols = df_br_stocks['Symbol_reduced'].unique().tolist()\n",
    "\n",
    "df_br_stocks.head(10)\n",
    "df_br_stocks\n",
    "\n",
    "symbols = df_br_stocks['Symbol_reduced'].unique().tolist()"
   ]
  },
  {
   "cell_type": "code",
   "execution_count": 35,
   "metadata": {},
   "outputs": [
    {
     "output_type": "stream",
     "name": "stdout",
     "text": [
      "[*********************100%***********************]  1 of 1 completed\n",
      "[*********************100%***********************]  1 of 1 completed\n",
      "[*********************100%***********************]  1 of 1 completed\n",
      "[*********************100%***********************]  1 of 1 completed\n",
      "[*********************100%***********************]  1 of 1 completed\n",
      "[*********************100%***********************]  1 of 1 completed\n",
      "[*********************100%***********************]  1 of 1 completed\n",
      "[*********************100%***********************]  1 of 1 completed\n",
      "[*********************100%***********************]  1 of 1 completed\n",
      "[*********************100%***********************]  1 of 1 completed\n",
      "[*********************100%***********************]  1 of 1 completed\n",
      "[*********************100%***********************]  1 of 1 completed\n",
      "[*********************100%***********************]  1 of 1 completed\n",
      "[*********************100%***********************]  1 of 1 completed\n",
      "[*********************100%***********************]  1 of 1 completed\n",
      "[*********************100%***********************]  1 of 1 completed\n",
      "[*********************100%***********************]  1 of 1 completed\n",
      "[*********************100%***********************]  1 of 1 completed\n",
      "[*********************100%***********************]  1 of 1 completed\n",
      "[*********************100%***********************]  1 of 1 completed\n",
      "[*********************100%***********************]  1 of 1 completed\n",
      "[*********************100%***********************]  1 of 1 completed\n",
      "[*********************100%***********************]  1 of 1 completed\n",
      "[*********************100%***********************]  1 of 1 completed\n",
      "[*********************100%***********************]  1 of 1 completed\n",
      "[*********************100%***********************]  1 of 1 completed\n",
      "[*********************100%***********************]  1 of 1 completed\n",
      "[*********************100%***********************]  1 of 1 completed\n",
      "[*********************100%***********************]  1 of 1 completed\n",
      "[*********************100%***********************]  1 of 1 completed\n",
      "[*********************100%***********************]  1 of 1 completed\n",
      "[*********************100%***********************]  1 of 1 completed\n",
      "[*********************100%***********************]  1 of 1 completed\n",
      "[*********************100%***********************]  1 of 1 completed\n",
      "[*********************100%***********************]  1 of 1 completed\n",
      "[*********************100%***********************]  1 of 1 completed\n",
      "[*********************100%***********************]  1 of 1 completed\n",
      "[*********************100%***********************]  1 of 1 completed\n",
      "[*********************100%***********************]  1 of 1 completed\n",
      "[*********************100%***********************]  1 of 1 completed\n",
      "[*********************100%***********************]  1 of 1 completed\n",
      "[*********************100%***********************]  1 of 1 completed\n",
      "[*********************100%***********************]  1 of 1 completed\n",
      "[*********************100%***********************]  1 of 1 completed\n",
      "[*********************100%***********************]  1 of 1 completed\n",
      "[*********************100%***********************]  1 of 1 completed\n",
      "[*********************100%***********************]  1 of 1 completed\n",
      "[*********************100%***********************]  1 of 1 completed\n",
      "[*********************100%***********************]  1 of 1 completed\n",
      "[*********************100%***********************]  1 of 1 completed\n",
      "[*********************100%***********************]  1 of 1 completed\n",
      "[*********************100%***********************]  1 of 1 completed\n",
      "[*********************100%***********************]  1 of 1 completed\n",
      "[*********************100%***********************]  1 of 1 completed\n",
      "[*********************100%***********************]  1 of 1 completed\n",
      "[*********************100%***********************]  1 of 1 completed\n",
      "[*********************100%***********************]  1 of 1 completed\n",
      "[*********************100%***********************]  1 of 1 completed\n",
      "[*********************100%***********************]  1 of 1 completed\n",
      "[*********************100%***********************]  1 of 1 completed\n",
      "[*********************100%***********************]  1 of 1 completed\n",
      "[*********************100%***********************]  1 of 1 completed\n",
      "[*********************100%***********************]  1 of 1 completed\n",
      "[*********************100%***********************]  1 of 1 completed\n",
      "[*********************100%***********************]  1 of 1 completed\n",
      "[*********************100%***********************]  1 of 1 completed\n",
      "[*********************100%***********************]  1 of 1 completed\n",
      "[*********************100%***********************]  1 of 1 completed\n",
      "[*********************100%***********************]  1 of 1 completed\n",
      "[*********************100%***********************]  1 of 1 completed\n",
      "[*********************100%***********************]  1 of 1 completed\n",
      "[*********************100%***********************]  1 of 1 completed\n",
      "[*********************100%***********************]  1 of 1 completed\n",
      "[*********************100%***********************]  1 of 1 completed\n",
      "[*********************100%***********************]  1 of 1 completed\n",
      "[*********************100%***********************]  1 of 1 completed\n",
      "[*********************100%***********************]  1 of 1 completed\n",
      "[*********************100%***********************]  1 of 1 completed\n",
      "[*********************100%***********************]  1 of 1 completed\n",
      "[*********************100%***********************]  1 of 1 completed\n",
      "[*********************100%***********************]  1 of 1 completed\n",
      "ok: 81\n",
      "nok: 0\n"
     ]
    }
   ],
   "source": [
    "import yfinance as yf\n",
    "import os\n",
    "import pandas as pd\n",
    "\n",
    "ok = nok = 0\n",
    "\n",
    "for symbol in symbols:\n",
    "  if not os.path.exists(f\"../data/raw/{symbol.split('.')[0]}.csv\"):\n",
    "    data = yf.download(symbol, start=\"2016-01-01\", end=\"2021-02-12\")\n",
    "    if data.size > 0:\n",
    "      data.to_csv(f\"\"\"../data/raw/{symbol.split('.')[0]}.csv\"\"\")\n",
    "      ok += 1\n",
    "    else:\n",
    "      print(\"Not saving...\")\n",
    "      nok += 1\n",
    "    #   lst_delist.append(symbol)\n",
    "\n",
    "print(f\"\"\"ok: {ok}\n",
    "nok: {nok}\"\"\")\n",
    "\n",
    "for symbol in symbols:\n",
    "  try:\n",
    "    s = open(f\"../data/raw/{symbol.split('.')[0]}.csv\").readlines()\n",
    "    if len(s) < 10:\n",
    "      os.system(f\"rm ../data/raw/{symbol.split('.')[0]}.csv\")\n",
    "  except:\n",
    "    print(f\"{symbol.split('.')[0]}.csv does not exist.\")\n",
    "    continue"
   ]
  },
  {
   "cell_type": "code",
   "execution_count": 36,
   "metadata": {},
   "outputs": [
    {
     "output_type": "execute_result",
     "data": {
      "text/plain": [
       "   Código          Ação   Tipo Qtde. Teórica  Part. (%) Symbol_reduced\n",
       "0   ABEV3     AMBEV S/A     ON    4355174839      2.927       ABEV3.SA\n",
       "1   AZUL4          AZUL  PN N2     327283207      0.638       AZUL4.SA\n",
       "2   B3SA3            B3  ON NM    1930877944      5.253       B3SA3.SA\n",
       "3   BBAS3        BRASIL  ON NM    1283197221      1.968       BBAS3.SA\n",
       "4   BBDC3      BRADESCO  ON N1    1147260246      1.168       BBDC3.SA\n",
       "..    ...           ...    ...           ...        ...            ...\n",
       "76  VALE3          VALE  ON NM    2837320141     12.107       VALE3.SA\n",
       "77  VIVT3  TELEF BRASIL     ON     444219852      0.977       VIVT3.SA\n",
       "78  VVAR3     VIAVAREJO  ON NM    1595083594      1.050       VVAR3.SA\n",
       "79  WEGE3           WEG  ON NM     741148001      2.919       WEGE3.SA\n",
       "80  YDUQ3    YDUQS PART  ON NM     300483575      0.449       YDUQ3.SA\n",
       "\n",
       "[81 rows x 6 columns]"
      ],
      "text/html": "<div>\n<style scoped>\n    .dataframe tbody tr th:only-of-type {\n        vertical-align: middle;\n    }\n\n    .dataframe tbody tr th {\n        vertical-align: top;\n    }\n\n    .dataframe thead th {\n        text-align: right;\n    }\n</style>\n<table border=\"1\" class=\"dataframe\">\n  <thead>\n    <tr style=\"text-align: right;\">\n      <th></th>\n      <th>Código</th>\n      <th>Ação</th>\n      <th>Tipo</th>\n      <th>Qtde. Teórica</th>\n      <th>Part. (%)</th>\n      <th>Symbol_reduced</th>\n    </tr>\n  </thead>\n  <tbody>\n    <tr>\n      <th>0</th>\n      <td>ABEV3</td>\n      <td>AMBEV S/A</td>\n      <td>ON</td>\n      <td>4355174839</td>\n      <td>2.927</td>\n      <td>ABEV3.SA</td>\n    </tr>\n    <tr>\n      <th>1</th>\n      <td>AZUL4</td>\n      <td>AZUL</td>\n      <td>PN N2</td>\n      <td>327283207</td>\n      <td>0.638</td>\n      <td>AZUL4.SA</td>\n    </tr>\n    <tr>\n      <th>2</th>\n      <td>B3SA3</td>\n      <td>B3</td>\n      <td>ON NM</td>\n      <td>1930877944</td>\n      <td>5.253</td>\n      <td>B3SA3.SA</td>\n    </tr>\n    <tr>\n      <th>3</th>\n      <td>BBAS3</td>\n      <td>BRASIL</td>\n      <td>ON NM</td>\n      <td>1283197221</td>\n      <td>1.968</td>\n      <td>BBAS3.SA</td>\n    </tr>\n    <tr>\n      <th>4</th>\n      <td>BBDC3</td>\n      <td>BRADESCO</td>\n      <td>ON N1</td>\n      <td>1147260246</td>\n      <td>1.168</td>\n      <td>BBDC3.SA</td>\n    </tr>\n    <tr>\n      <th>...</th>\n      <td>...</td>\n      <td>...</td>\n      <td>...</td>\n      <td>...</td>\n      <td>...</td>\n      <td>...</td>\n    </tr>\n    <tr>\n      <th>76</th>\n      <td>VALE3</td>\n      <td>VALE</td>\n      <td>ON NM</td>\n      <td>2837320141</td>\n      <td>12.107</td>\n      <td>VALE3.SA</td>\n    </tr>\n    <tr>\n      <th>77</th>\n      <td>VIVT3</td>\n      <td>TELEF BRASIL</td>\n      <td>ON</td>\n      <td>444219852</td>\n      <td>0.977</td>\n      <td>VIVT3.SA</td>\n    </tr>\n    <tr>\n      <th>78</th>\n      <td>VVAR3</td>\n      <td>VIAVAREJO</td>\n      <td>ON NM</td>\n      <td>1595083594</td>\n      <td>1.050</td>\n      <td>VVAR3.SA</td>\n    </tr>\n    <tr>\n      <th>79</th>\n      <td>WEGE3</td>\n      <td>WEG</td>\n      <td>ON NM</td>\n      <td>741148001</td>\n      <td>2.919</td>\n      <td>WEGE3.SA</td>\n    </tr>\n    <tr>\n      <th>80</th>\n      <td>YDUQ3</td>\n      <td>YDUQS PART</td>\n      <td>ON NM</td>\n      <td>300483575</td>\n      <td>0.449</td>\n      <td>YDUQ3.SA</td>\n    </tr>\n  </tbody>\n</table>\n<p>81 rows × 6 columns</p>\n</div>"
     },
     "metadata": {},
     "execution_count": 36
    }
   ],
   "source": [
    "df_br_stocks"
   ]
  },
  {
   "cell_type": "code",
   "execution_count": null,
   "metadata": {},
   "outputs": [],
   "source": []
  }
 ]
}